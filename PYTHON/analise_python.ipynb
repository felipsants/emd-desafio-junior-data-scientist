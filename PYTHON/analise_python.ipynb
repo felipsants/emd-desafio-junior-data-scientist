{
 "cells": [
  {
   "cell_type": "markdown",
   "id": "af7d3914e57bfea9",
   "metadata": {},
   "source": [
    "## Instalar dependencias\n",
    "\n",
    "Nesta parte foi um pouco complicado, pois havia algumas incompatibilidades que não estavam me permitando instalar da forma correta o basedosdados. Então, o que eu fiz foi usar o python na versão 3.10 e instalar o basedosdados na versão 2.0.0b15. Após isso, eu voltei para a versão 3.12 do python e funcionou."
   ]
  },
  {
   "cell_type": "code",
   "execution_count": 9,
   "id": "c16ed1f89d73db29",
   "metadata": {},
   "outputs": [
    {
     "name": "stdout",
     "output_type": "stream",
     "text": [
      "Requirement already satisfied: basedosdados==2.0.0b15 in c:\\users\\cs134\\miniconda3\\lib\\site-packages (2.0.0b15)\n",
      "Requirement already satisfied: pandas in c:\\users\\cs134\\miniconda3\\lib\\site-packages (2.2.2)\n",
      "Requirement already satisfied: google-api-python-client<3.0,>=2.86 in c:\\users\\cs134\\miniconda3\\lib\\site-packages (from basedosdados==2.0.0b15) (2.141.0)\n",
      "Requirement already satisfied: google-cloud-bigquery<4.0,>=3.10 in c:\\users\\cs134\\miniconda3\\lib\\site-packages (from basedosdados==2.0.0b15) (3.25.0)\n",
      "Requirement already satisfied: google-cloud-bigquery-connection<2.0,>=1.12 in c:\\users\\cs134\\miniconda3\\lib\\site-packages (from basedosdados==2.0.0b15) (1.15.5)\n",
      "Requirement already satisfied: google-cloud-bigquery-storage<3.0,>=2.19 in c:\\users\\cs134\\miniconda3\\lib\\site-packages (from basedosdados==2.0.0b15) (2.25.0)\n",
      "Requirement already satisfied: google-cloud-storage<3.0,>=2.9 in c:\\users\\cs134\\miniconda3\\lib\\site-packages (from basedosdados==2.0.0b15) (2.18.2)\n",
      "Requirement already satisfied: loguru==0.7.0 in c:\\users\\cs134\\miniconda3\\lib\\site-packages (from basedosdados==2.0.0b15) (0.7.0)\n",
      "Requirement already satisfied: pandas-gbq<0.20,>=0.19 in c:\\users\\cs134\\miniconda3\\lib\\site-packages (from basedosdados==2.0.0b15) (0.19.2)\n",
      "Requirement already satisfied: pydata-google-auth<2.0,>=1.8 in c:\\users\\cs134\\miniconda3\\lib\\site-packages (from basedosdados==2.0.0b15) (1.8.2)\n",
      "Requirement already satisfied: tomlkit<0.12,>=0.11 in c:\\users\\cs134\\miniconda3\\lib\\site-packages (from basedosdados==2.0.0b15) (0.11.8)\n",
      "Requirement already satisfied: tqdm<5,>=4 in c:\\users\\cs134\\miniconda3\\lib\\site-packages (from basedosdados==2.0.0b15) (4.65.0)\n",
      "Requirement already satisfied: colorama>=0.3.4 in c:\\users\\cs134\\miniconda3\\lib\\site-packages (from loguru==0.7.0->basedosdados==2.0.0b15) (0.4.6)\n",
      "Requirement already satisfied: win32-setctime>=1.0.0 in c:\\users\\cs134\\miniconda3\\lib\\site-packages (from loguru==0.7.0->basedosdados==2.0.0b15) (1.1.0)\n",
      "Requirement already satisfied: numpy>=1.26.0 in c:\\users\\cs134\\miniconda3\\lib\\site-packages (from pandas) (1.26.4)\n",
      "Requirement already satisfied: python-dateutil>=2.8.2 in c:\\users\\cs134\\miniconda3\\lib\\site-packages (from pandas) (2.9.0.post0)\n",
      "Requirement already satisfied: pytz>=2020.1 in c:\\users\\cs134\\miniconda3\\lib\\site-packages (from pandas) (2024.1)\n",
      "Requirement already satisfied: tzdata>=2022.7 in c:\\users\\cs134\\miniconda3\\lib\\site-packages (from pandas) (2023.3)\n",
      "Requirement already satisfied: httplib2<1.dev0,>=0.19.0 in c:\\users\\cs134\\miniconda3\\lib\\site-packages (from google-api-python-client<3.0,>=2.86->basedosdados==2.0.0b15) (0.22.0)\n",
      "Requirement already satisfied: google-auth!=2.24.0,!=2.25.0,<3.0.0.dev0,>=1.32.0 in c:\\users\\cs134\\miniconda3\\lib\\site-packages (from google-api-python-client<3.0,>=2.86->basedosdados==2.0.0b15) (2.34.0)\n",
      "Requirement already satisfied: google-auth-httplib2<1.0.0,>=0.2.0 in c:\\users\\cs134\\miniconda3\\lib\\site-packages (from google-api-python-client<3.0,>=2.86->basedosdados==2.0.0b15) (0.2.0)\n",
      "Requirement already satisfied: google-api-core!=2.0.*,!=2.1.*,!=2.2.*,!=2.3.0,<3.0.0.dev0,>=1.31.5 in c:\\users\\cs134\\miniconda3\\lib\\site-packages (from google-api-python-client<3.0,>=2.86->basedosdados==2.0.0b15) (2.19.1)\n",
      "Requirement already satisfied: uritemplate<5,>=3.0.1 in c:\\users\\cs134\\miniconda3\\lib\\site-packages (from google-api-python-client<3.0,>=2.86->basedosdados==2.0.0b15) (4.1.1)\n",
      "Requirement already satisfied: google-cloud-core<3.0.0dev,>=1.6.0 in c:\\users\\cs134\\miniconda3\\lib\\site-packages (from google-cloud-bigquery<4.0,>=3.10->basedosdados==2.0.0b15) (2.4.1)\n",
      "Requirement already satisfied: google-resumable-media<3.0dev,>=0.6.0 in c:\\users\\cs134\\miniconda3\\lib\\site-packages (from google-cloud-bigquery<4.0,>=3.10->basedosdados==2.0.0b15) (2.7.2)\n",
      "Requirement already satisfied: packaging>=20.0.0 in c:\\users\\cs134\\miniconda3\\lib\\site-packages (from google-cloud-bigquery<4.0,>=3.10->basedosdados==2.0.0b15) (23.1)\n",
      "Requirement already satisfied: requests<3.0.0dev,>=2.21.0 in c:\\users\\cs134\\miniconda3\\lib\\site-packages (from google-cloud-bigquery<4.0,>=3.10->basedosdados==2.0.0b15) (2.31.0)\n",
      "Requirement already satisfied: proto-plus<2.0.0dev,>=1.22.3 in c:\\users\\cs134\\miniconda3\\lib\\site-packages (from google-cloud-bigquery-connection<2.0,>=1.12->basedosdados==2.0.0b15) (1.24.0)\n",
      "Requirement already satisfied: protobuf!=4.21.0,!=4.21.1,!=4.21.2,!=4.21.3,!=4.21.4,!=4.21.5,<6.0.0dev,>=3.20.2 in c:\\users\\cs134\\miniconda3\\lib\\site-packages (from google-cloud-bigquery-connection<2.0,>=1.12->basedosdados==2.0.0b15) (4.25.4)\n",
      "Requirement already satisfied: grpc-google-iam-v1<1.0.0dev,>=0.12.4 in c:\\users\\cs134\\miniconda3\\lib\\site-packages (from google-cloud-bigquery-connection<2.0,>=1.12->basedosdados==2.0.0b15) (0.13.1)\n",
      "Requirement already satisfied: google-crc32c<2.0dev,>=1.0 in c:\\users\\cs134\\miniconda3\\lib\\site-packages (from google-cloud-storage<3.0,>=2.9->basedosdados==2.0.0b15) (1.5.0)\n",
      "Requirement already satisfied: setuptools in c:\\users\\cs134\\miniconda3\\lib\\site-packages (from pandas-gbq<0.20,>=0.19->basedosdados==2.0.0b15) (68.2.2)\n",
      "Requirement already satisfied: db-dtypes<2.0.0,>=1.0.4 in c:\\users\\cs134\\miniconda3\\lib\\site-packages (from pandas-gbq<0.20,>=0.19->basedosdados==2.0.0b15) (1.3.0)\n",
      "Requirement already satisfied: pyarrow>=3.0.0 in c:\\users\\cs134\\miniconda3\\lib\\site-packages (from pandas-gbq<0.20,>=0.19->basedosdados==2.0.0b15) (17.0.0)\n",
      "Requirement already satisfied: google-auth-oauthlib>=0.7.0 in c:\\users\\cs134\\miniconda3\\lib\\site-packages (from pandas-gbq<0.20,>=0.19->basedosdados==2.0.0b15) (1.2.1)\n",
      "Requirement already satisfied: six>=1.5 in c:\\users\\cs134\\miniconda3\\lib\\site-packages (from python-dateutil>=2.8.2->pandas) (1.16.0)\n",
      "Requirement already satisfied: googleapis-common-protos<2.0.dev0,>=1.56.2 in c:\\users\\cs134\\miniconda3\\lib\\site-packages (from google-api-core!=2.0.*,!=2.1.*,!=2.2.*,!=2.3.0,<3.0.0.dev0,>=1.31.5->google-api-python-client<3.0,>=2.86->basedosdados==2.0.0b15) (1.63.2)\n",
      "Requirement already satisfied: grpcio<2.0dev,>=1.33.2 in c:\\users\\cs134\\miniconda3\\lib\\site-packages (from google-api-core[grpc]!=2.0.*,!=2.1.*,!=2.10.*,!=2.2.*,!=2.3.*,!=2.4.*,!=2.5.*,!=2.6.*,!=2.7.*,!=2.8.*,!=2.9.*,<3.0.0dev,>=1.34.1->google-cloud-bigquery<4.0,>=3.10->basedosdados==2.0.0b15) (1.65.5)\n",
      "Requirement already satisfied: grpcio-status<2.0.dev0,>=1.33.2 in c:\\users\\cs134\\miniconda3\\lib\\site-packages (from google-api-core[grpc]!=2.0.*,!=2.1.*,!=2.10.*,!=2.2.*,!=2.3.*,!=2.4.*,!=2.5.*,!=2.6.*,!=2.7.*,!=2.8.*,!=2.9.*,<3.0.0dev,>=1.34.1->google-cloud-bigquery<4.0,>=3.10->basedosdados==2.0.0b15) (1.62.3)\n",
      "Requirement already satisfied: cachetools<6.0,>=2.0.0 in c:\\users\\cs134\\miniconda3\\lib\\site-packages (from google-auth!=2.24.0,!=2.25.0,<3.0.0.dev0,>=1.32.0->google-api-python-client<3.0,>=2.86->basedosdados==2.0.0b15) (5.5.0)\n",
      "Requirement already satisfied: pyasn1-modules>=0.2.1 in c:\\users\\cs134\\miniconda3\\lib\\site-packages (from google-auth!=2.24.0,!=2.25.0,<3.0.0.dev0,>=1.32.0->google-api-python-client<3.0,>=2.86->basedosdados==2.0.0b15) (0.4.0)\n",
      "Requirement already satisfied: rsa<5,>=3.1.4 in c:\\users\\cs134\\miniconda3\\lib\\site-packages (from google-auth!=2.24.0,!=2.25.0,<3.0.0.dev0,>=1.32.0->google-api-python-client<3.0,>=2.86->basedosdados==2.0.0b15) (4.9)\n",
      "Requirement already satisfied: requests-oauthlib>=0.7.0 in c:\\users\\cs134\\miniconda3\\lib\\site-packages (from google-auth-oauthlib>=0.7.0->pandas-gbq<0.20,>=0.19->basedosdados==2.0.0b15) (2.0.0)\n",
      "Requirement already satisfied: pyparsing!=3.0.0,!=3.0.1,!=3.0.2,!=3.0.3,<4,>=2.4.2 in c:\\users\\cs134\\miniconda3\\lib\\site-packages (from httplib2<1.dev0,>=0.19.0->google-api-python-client<3.0,>=2.86->basedosdados==2.0.0b15) (3.1.2)\n",
      "Requirement already satisfied: charset-normalizer<4,>=2 in c:\\users\\cs134\\miniconda3\\lib\\site-packages (from requests<3.0.0dev,>=2.21.0->google-cloud-bigquery<4.0,>=3.10->basedosdados==2.0.0b15) (2.0.4)\n",
      "Requirement already satisfied: idna<4,>=2.5 in c:\\users\\cs134\\miniconda3\\lib\\site-packages (from requests<3.0.0dev,>=2.21.0->google-cloud-bigquery<4.0,>=3.10->basedosdados==2.0.0b15) (2.10)\n",
      "Requirement already satisfied: urllib3<3,>=1.21.1 in c:\\users\\cs134\\miniconda3\\lib\\site-packages (from requests<3.0.0dev,>=2.21.0->google-cloud-bigquery<4.0,>=3.10->basedosdados==2.0.0b15) (2.1.0)\n",
      "Requirement already satisfied: certifi>=2017.4.17 in c:\\users\\cs134\\miniconda3\\lib\\site-packages (from requests<3.0.0dev,>=2.21.0->google-cloud-bigquery<4.0,>=3.10->basedosdados==2.0.0b15) (2024.7.4)\n",
      "Requirement already satisfied: pyasn1<0.7.0,>=0.4.6 in c:\\users\\cs134\\miniconda3\\lib\\site-packages (from pyasn1-modules>=0.2.1->google-auth!=2.24.0,!=2.25.0,<3.0.0.dev0,>=1.32.0->google-api-python-client<3.0,>=2.86->basedosdados==2.0.0b15) (0.6.0)\n",
      "Requirement already satisfied: oauthlib>=3.0.0 in c:\\users\\cs134\\miniconda3\\lib\\site-packages (from requests-oauthlib>=0.7.0->google-auth-oauthlib>=0.7.0->pandas-gbq<0.20,>=0.19->basedosdados==2.0.0b15) (3.2.2)\n",
      "Note: you may need to restart the kernel to use updated packages.\n"
     ]
    }
   ],
   "source": [
    "pip install basedosdados==2.0.0b15 pandas"
   ]
  },
  {
   "cell_type": "markdown",
   "id": "80b22bb4c0e3c556",
   "metadata": {},
   "source": [
    "## Importar Bibliotecas necessárias"
   ]
  },
  {
   "cell_type": "code",
   "execution_count": 10,
   "id": "b8752adef4f13bf3",
   "metadata": {
    "ExecuteTime": {
     "end_time": "2024-08-20T13:35:13.977074Z",
     "start_time": "2024-08-20T13:35:13.959239Z"
    }
   },
   "outputs": [],
   "source": [
    "import basedosdados as bd\n",
    "import pandas as pd\n",
    "from IPython.display import display"
   ]
  },
  {
   "cell_type": "markdown",
   "id": "8bb6044f",
   "metadata": {},
   "source": [
    "Id do seu projeto"
   ]
  },
  {
   "cell_type": "code",
   "execution_count": 11,
   "id": "2b8e98b7",
   "metadata": {},
   "outputs": [],
   "source": [
    "project_id = \"sinuous-gist-433018-f3\""
   ]
  },
  {
   "cell_type": "markdown",
   "id": "b9b53b15538778e3",
   "metadata": {},
   "source": [
    "## Questão 1\n",
    "Quantos chamados foram abertos no dia 01/04/2023?"
   ]
  },
  {
   "cell_type": "code",
   "execution_count": 12,
   "id": "fbc121e30a2defb3",
   "metadata": {
    "ExecuteTime": {
     "end_time": "2024-08-20T13:14:04.373067Z",
     "start_time": "2024-08-20T13:14:01.005388Z"
    }
   },
   "outputs": [
    {
     "name": "stdout",
     "output_type": "stream",
     "text": [
      "Downloading: 100%|\u001b[32m██████████\u001b[0m|\n"
     ]
    },
    {
     "data": {
      "text/html": [
       "<div>\n",
       "<style scoped>\n",
       "    .dataframe tbody tr th:only-of-type {\n",
       "        vertical-align: middle;\n",
       "    }\n",
       "\n",
       "    .dataframe tbody tr th {\n",
       "        vertical-align: top;\n",
       "    }\n",
       "\n",
       "    .dataframe thead th {\n",
       "        text-align: right;\n",
       "    }\n",
       "</style>\n",
       "<table border=\"1\" class=\"dataframe\">\n",
       "  <thead>\n",
       "    <tr style=\"text-align: right;\">\n",
       "      <th></th>\n",
       "      <th>chamados_abertos</th>\n",
       "    </tr>\n",
       "  </thead>\n",
       "  <tbody>\n",
       "    <tr>\n",
       "      <th>0</th>\n",
       "      <td>1756</td>\n",
       "    </tr>\n",
       "  </tbody>\n",
       "</table>\n",
       "</div>"
      ],
      "text/plain": [
       "   chamados_abertos\n",
       "0              1756"
      ]
     },
     "execution_count": 12,
     "metadata": {},
     "output_type": "execute_result"
    }
   ],
   "source": [
    "q1 = \"\"\"\n",
    "SELECT COUNT(*) AS chamados_abertos\n",
    "FROM `datario.adm_central_atendimento_1746.chamado`\n",
    "WHERE DATE(data_inicio) = '2023-04-01'\n",
    "\"\"\"\n",
    "que1 = bd.read_sql(q1, billing_project_id=project_id)\n",
    "que1.head()"
   ]
  },
  {
   "cell_type": "markdown",
   "id": "c453f1be9ada6002",
   "metadata": {},
   "source": [
    "Resposta: 1756 chamados abertos no dia 01-04-2023"
   ]
  },
  {
   "cell_type": "markdown",
   "id": "c90c9aa00f053357",
   "metadata": {},
   "source": [
    "## Questão 2:\n",
    "Qual o tipo de chamado que teve mais teve chamados abertos no dia 01/04/2023?"
   ]
  },
  {
   "cell_type": "code",
   "execution_count": 13,
   "id": "e381f687976cf67b",
   "metadata": {
    "ExecuteTime": {
     "end_time": "2024-08-20T13:14:21.672454Z",
     "start_time": "2024-08-20T13:14:17.576813Z"
    }
   },
   "outputs": [
    {
     "name": "stdout",
     "output_type": "stream",
     "text": [
      "Downloading: 100%|\u001b[32m██████████\u001b[0m|\n"
     ]
    },
    {
     "data": {
      "text/html": [
       "<div>\n",
       "<style scoped>\n",
       "    .dataframe tbody tr th:only-of-type {\n",
       "        vertical-align: middle;\n",
       "    }\n",
       "\n",
       "    .dataframe tbody tr th {\n",
       "        vertical-align: top;\n",
       "    }\n",
       "\n",
       "    .dataframe thead th {\n",
       "        text-align: right;\n",
       "    }\n",
       "</style>\n",
       "<table border=\"1\" class=\"dataframe\">\n",
       "  <thead>\n",
       "    <tr style=\"text-align: right;\">\n",
       "      <th></th>\n",
       "      <th>tipo</th>\n",
       "      <th>qtd_chamados</th>\n",
       "    </tr>\n",
       "  </thead>\n",
       "  <tbody>\n",
       "    <tr>\n",
       "      <th>0</th>\n",
       "      <td>Estacionamento irregular</td>\n",
       "      <td>366</td>\n",
       "    </tr>\n",
       "  </tbody>\n",
       "</table>\n",
       "</div>"
      ],
      "text/plain": [
       "                       tipo  qtd_chamados\n",
       "0  Estacionamento irregular           366"
      ]
     },
     "execution_count": 13,
     "metadata": {},
     "output_type": "execute_result"
    }
   ],
   "source": [
    "q2 = \"\"\"\n",
    "SELECT tipo, COUNT(*) AS qtd_chamados\n",
    "FROM `datario.adm_central_atendimento_1746.chamado`\n",
    "WHERE DATE(data_inicio) = '2023-04-01'\n",
    "GROUP BY tipo\n",
    "ORDER BY qtd_chamados DESC\n",
    "LIMIT 1\n",
    "\"\"\"\n",
    "que2 = bd.read_sql(q2, billing_project_id=project_id)\n",
    "que2.head()"
   ]
  },
  {
   "cell_type": "markdown",
   "id": "614220162bc37144",
   "metadata": {},
   "source": [
    "Resposta: Estacionamento irregular, com 366 chamados"
   ]
  },
  {
   "cell_type": "markdown",
   "id": "16423159d1aa9f96",
   "metadata": {},
   "source": [
    "## Questão 3:\n",
    "Questão 3: Quais os nomes dos 3 bairros que mais tiveram chamados abertos nesse dia?"
   ]
  },
  {
   "cell_type": "code",
   "execution_count": 14,
   "id": "4fb2148048cd9b6b",
   "metadata": {
    "ExecuteTime": {
     "end_time": "2024-08-20T14:22:59.810281Z",
     "start_time": "2024-08-20T14:22:52.586638Z"
    }
   },
   "outputs": [
    {
     "name": "stdout",
     "output_type": "stream",
     "text": [
      "Downloading: 100%|\u001b[32m██████████\u001b[0m|\n",
      "Downloading: 100%|\u001b[32m██████████\u001b[0m|\n"
     ]
    },
    {
     "data": {
      "text/html": [
       "<div>\n",
       "<style scoped>\n",
       "    .dataframe tbody tr th:only-of-type {\n",
       "        vertical-align: middle;\n",
       "    }\n",
       "\n",
       "    .dataframe tbody tr th {\n",
       "        vertical-align: top;\n",
       "    }\n",
       "\n",
       "    .dataframe thead th {\n",
       "        text-align: right;\n",
       "    }\n",
       "</style>\n",
       "<table border=\"1\" class=\"dataframe\">\n",
       "  <thead>\n",
       "    <tr style=\"text-align: right;\">\n",
       "      <th></th>\n",
       "      <th>id_bairro</th>\n",
       "      <th>qtd_chamados_bairro</th>\n",
       "    </tr>\n",
       "  </thead>\n",
       "  <tbody>\n",
       "    <tr>\n",
       "      <th>0</th>\n",
       "      <td>144</td>\n",
       "      <td>113</td>\n",
       "    </tr>\n",
       "    <tr>\n",
       "      <th>1</th>\n",
       "      <td>33</td>\n",
       "      <td>89</td>\n",
       "    </tr>\n",
       "    <tr>\n",
       "      <th>2</th>\n",
       "      <td>None</td>\n",
       "      <td>73</td>\n",
       "    </tr>\n",
       "    <tr>\n",
       "      <th>3</th>\n",
       "      <td>128</td>\n",
       "      <td>59</td>\n",
       "    </tr>\n",
       "  </tbody>\n",
       "</table>\n",
       "</div>"
      ],
      "text/plain": [
       "  id_bairro  qtd_chamados_bairro\n",
       "0       144                  113\n",
       "1        33                   89\n",
       "2      None                   73\n",
       "3       128                   59"
      ]
     },
     "metadata": {},
     "output_type": "display_data"
    },
    {
     "data": {
      "text/html": [
       "<div>\n",
       "<style scoped>\n",
       "    .dataframe tbody tr th:only-of-type {\n",
       "        vertical-align: middle;\n",
       "    }\n",
       "\n",
       "    .dataframe tbody tr th {\n",
       "        vertical-align: top;\n",
       "    }\n",
       "\n",
       "    .dataframe thead th {\n",
       "        text-align: right;\n",
       "    }\n",
       "</style>\n",
       "<table border=\"1\" class=\"dataframe\">\n",
       "  <thead>\n",
       "    <tr style=\"text-align: right;\">\n",
       "      <th></th>\n",
       "      <th>id_bairro</th>\n",
       "      <th>nome</th>\n",
       "      <th>id_area_planejamento</th>\n",
       "      <th>id_regiao_planejamento</th>\n",
       "      <th>nome_regiao_planejamento</th>\n",
       "      <th>id_regiao_administrativa</th>\n",
       "      <th>nome_regiao_administrativa</th>\n",
       "      <th>subprefeitura</th>\n",
       "      <th>area</th>\n",
       "      <th>perimetro</th>\n",
       "      <th>geometry_wkt</th>\n",
       "      <th>geometry</th>\n",
       "    </tr>\n",
       "  </thead>\n",
       "  <tbody>\n",
       "    <tr>\n",
       "      <th>0</th>\n",
       "      <td>33</td>\n",
       "      <td>Tijuca</td>\n",
       "      <td>2</td>\n",
       "      <td>2.2</td>\n",
       "      <td>Tijuca</td>\n",
       "      <td>8</td>\n",
       "      <td>Tijuca</td>\n",
       "      <td>Grande Tijuca</td>\n",
       "      <td>1.006556e+07</td>\n",
       "      <td>20628.852933</td>\n",
       "      <td>POLYGON ((-43.21606350697533 -22.9131313728608...</td>\n",
       "      <td>POLYGON((-43.2160635069753 -22.9131313728608, ...</td>\n",
       "    </tr>\n",
       "    <tr>\n",
       "      <th>1</th>\n",
       "      <td>128</td>\n",
       "      <td>Barra da Tijuca</td>\n",
       "      <td>4</td>\n",
       "      <td>4.2</td>\n",
       "      <td>Barra da Tijuca</td>\n",
       "      <td>24</td>\n",
       "      <td>Barra Da Tijuca</td>\n",
       "      <td>Barra da Tijuca</td>\n",
       "      <td>4.815063e+07</td>\n",
       "      <td>47771.859388</td>\n",
       "      <td>MULTIPOLYGON (((-43.40294914282091 -22.9727164...</td>\n",
       "      <td>MULTIPOLYGON(((-43.3039867221538 -23.036655138...</td>\n",
       "    </tr>\n",
       "    <tr>\n",
       "      <th>2</th>\n",
       "      <td>144</td>\n",
       "      <td>Campo Grande</td>\n",
       "      <td>5</td>\n",
       "      <td>5.2</td>\n",
       "      <td>Campo Grande</td>\n",
       "      <td>18</td>\n",
       "      <td>Campo Grande</td>\n",
       "      <td>Zona Oeste</td>\n",
       "      <td>1.044451e+08</td>\n",
       "      <td>75083.751962</td>\n",
       "      <td>POLYGON ((-43.51515139864348 -22.8522866123935...</td>\n",
       "      <td>POLYGON((-43.5151513986435 -22.8522866123935, ...</td>\n",
       "    </tr>\n",
       "  </tbody>\n",
       "</table>\n",
       "</div>"
      ],
      "text/plain": [
       "  id_bairro             nome id_area_planejamento id_regiao_planejamento  \\\n",
       "0        33           Tijuca                    2                    2.2   \n",
       "1       128  Barra da Tijuca                    4                    4.2   \n",
       "2       144     Campo Grande                    5                    5.2   \n",
       "\n",
       "  nome_regiao_planejamento id_regiao_administrativa  \\\n",
       "0                   Tijuca                        8   \n",
       "1          Barra da Tijuca                       24   \n",
       "2             Campo Grande                       18   \n",
       "\n",
       "  nome_regiao_administrativa    subprefeitura          area     perimetro  \\\n",
       "0                     Tijuca    Grande Tijuca  1.006556e+07  20628.852933   \n",
       "1            Barra Da Tijuca  Barra da Tijuca  4.815063e+07  47771.859388   \n",
       "2               Campo Grande       Zona Oeste  1.044451e+08  75083.751962   \n",
       "\n",
       "                                        geometry_wkt  \\\n",
       "0  POLYGON ((-43.21606350697533 -22.9131313728608...   \n",
       "1  MULTIPOLYGON (((-43.40294914282091 -22.9727164...   \n",
       "2  POLYGON ((-43.51515139864348 -22.8522866123935...   \n",
       "\n",
       "                                            geometry  \n",
       "0  POLYGON((-43.2160635069753 -22.9131313728608, ...  \n",
       "1  MULTIPOLYGON(((-43.3039867221538 -23.036655138...  \n",
       "2  POLYGON((-43.5151513986435 -22.8522866123935, ...  "
      ]
     },
     "metadata": {},
     "output_type": "display_data"
    }
   ],
   "source": [
    "q3 = \"\"\"\n",
    "SELECT id_bairro, COUNT(*) AS qtd_chamados_bairro\n",
    "FROM `datario.adm_central_atendimento_1746.chamado`\n",
    "WHERE DATE(data_inicio) = '2023-04-01'\n",
    "GROUP BY id_bairro\n",
    "ORDER BY qtd_chamados_bairro DESC\n",
    "LIMIT 4\n",
    "\"\"\"\n",
    "\n",
    "q3_1 = \"\"\"\n",
    "SELECT *\n",
    "FROM `datario.dados_mestres.bairro`\n",
    "WHERE id_bairro IN ('144', '33','128')\n",
    "\"\"\"\n",
    "que3_1 = bd.read_sql(q3_1, billing_project_id=project_id)\n",
    "que3 = bd.read_sql(q3, billing_project_id=project_id)\n",
    "\n",
    "display(que3.head())\n",
    "display(que3_1.head())"
   ]
  },
  {
   "cell_type": "markdown",
   "id": "c581a805aca74a02",
   "metadata": {},
   "source": [
    "Resposta:\n",
    "Nesta questão, eu filtrei os 3 bairros com mais chamados, porém o 3º bairro não havia<br>\n",
    "id de identificação do bairro, dessa forma eu desconsiderei o 3º colocado e fui para o 4º bairro com mais<br>\n",
    "ocorrências.<br>\n",
    "    1º : Campo Grande, ID 144 - Chamados : 113<br>\n",
    "    2º : Tijuca, ID 33 - Chamados : 89<br>\n",
    "    3º : Barra da Tijuca, ID 128 - Chamados : 59<br>\n",
    "    3º : NULL - Chamados : 73 ( Provavelmente, são os chamados que não tem ligação com um lugar fisico.)<br>"
   ]
  },
  {
   "cell_type": "markdown",
   "id": "916ee109d942d396",
   "metadata": {},
   "source": [
    "## Questão 4:\n",
    "Qual o nome da subprefeitura com mais chamados abertos nesse dia?"
   ]
  },
  {
   "cell_type": "code",
   "execution_count": 15,
   "id": "59542eb723534d5e",
   "metadata": {
    "ExecuteTime": {
     "end_time": "2024-08-20T13:23:53.434166Z",
     "start_time": "2024-08-20T13:23:44.618993Z"
    }
   },
   "outputs": [
    {
     "name": "stdout",
     "output_type": "stream",
     "text": [
      "Downloading: 100%|\u001b[32m██████████\u001b[0m|\n"
     ]
    },
    {
     "data": {
      "text/html": [
       "<div>\n",
       "<style scoped>\n",
       "    .dataframe tbody tr th:only-of-type {\n",
       "        vertical-align: middle;\n",
       "    }\n",
       "\n",
       "    .dataframe tbody tr th {\n",
       "        vertical-align: top;\n",
       "    }\n",
       "\n",
       "    .dataframe thead th {\n",
       "        text-align: right;\n",
       "    }\n",
       "</style>\n",
       "<table border=\"1\" class=\"dataframe\">\n",
       "  <thead>\n",
       "    <tr style=\"text-align: right;\">\n",
       "      <th></th>\n",
       "      <th>subprefeitura</th>\n",
       "      <th>qtd_chamados_subprefeitura</th>\n",
       "    </tr>\n",
       "  </thead>\n",
       "  <tbody>\n",
       "    <tr>\n",
       "      <th>0</th>\n",
       "      <td>Zona Norte</td>\n",
       "      <td>510</td>\n",
       "    </tr>\n",
       "  </tbody>\n",
       "</table>\n",
       "</div>"
      ],
      "text/plain": [
       "  subprefeitura  qtd_chamados_subprefeitura\n",
       "0    Zona Norte                         510"
      ]
     },
     "execution_count": 15,
     "metadata": {},
     "output_type": "execute_result"
    }
   ],
   "source": [
    "q4 = \"\"\"\n",
    "SELECT b.subprefeitura, COUNT(c.id_bairro) AS qtd_chamados_subprefeitura\n",
    "FROM datario.adm_central_atendimento_1746.chamado c\n",
    "JOIN datario.dados_mestres.bairro b\n",
    "ON c.id_bairro = b.id_bairro\n",
    "WHERE DATE(c.data_inicio) = '2023-04-01'\n",
    "GROUP BY b.subprefeitura\n",
    "ORDER BY qtd_chamados_subprefeitura DESC\n",
    "LIMIT 1;\n",
    "\"\"\"\n",
    "que4 = bd.read_sql(q4, billing_project_id=project_id)\n",
    "que4.head()"
   ]
  },
  {
   "cell_type": "markdown",
   "id": "c59a5e1a5727876a",
   "metadata": {},
   "source": [
    "Resposta: Subprefeitura Zona Norte, com 510 chamados"
   ]
  },
  {
   "cell_type": "markdown",
   "id": "f7923667a0ecfcbf",
   "metadata": {},
   "source": [
    "## Questão 5:\n",
    "Existe algum chamado aberto nesse dia que não foi associado a um bairro ou subprefeitura na tabela de bairros?Se sim, por que isso acontece?"
   ]
  },
  {
   "cell_type": "code",
   "execution_count": 16,
   "id": "921c9c4b1cf1bd8d",
   "metadata": {},
   "outputs": [
    {
     "name": "stdout",
     "output_type": "stream",
     "text": [
      "Downloading: 100%|\u001b[32m██████████\u001b[0m|\n"
     ]
    },
    {
     "data": {
      "text/html": [
       "<div>\n",
       "<style scoped>\n",
       "    .dataframe tbody tr th:only-of-type {\n",
       "        vertical-align: middle;\n",
       "    }\n",
       "\n",
       "    .dataframe tbody tr th {\n",
       "        vertical-align: top;\n",
       "    }\n",
       "\n",
       "    .dataframe thead th {\n",
       "        text-align: right;\n",
       "    }\n",
       "</style>\n",
       "<table border=\"1\" class=\"dataframe\">\n",
       "  <thead>\n",
       "    <tr style=\"text-align: right;\">\n",
       "      <th></th>\n",
       "      <th>tipo</th>\n",
       "      <th>subtipo</th>\n",
       "      <th>data_inicio</th>\n",
       "      <th>id_bairro</th>\n",
       "    </tr>\n",
       "  </thead>\n",
       "  <tbody>\n",
       "    <tr>\n",
       "      <th>0</th>\n",
       "      <td>Atendimento ao cidadão</td>\n",
       "      <td>Solicitação da gravação do atendimento 1746</td>\n",
       "      <td>2023-04-01 16:46:54</td>\n",
       "      <td>None</td>\n",
       "    </tr>\n",
       "    <tr>\n",
       "      <th>1</th>\n",
       "      <td>Ônibus</td>\n",
       "      <td>Fiscalização de irregularidades em linha de ôn...</td>\n",
       "      <td>2023-04-01 11:47:17</td>\n",
       "      <td>None</td>\n",
       "    </tr>\n",
       "    <tr>\n",
       "      <th>2</th>\n",
       "      <td>Estacionamento irregular</td>\n",
       "      <td>Fiscalização de estacionamento irregular de ve...</td>\n",
       "      <td>2023-04-01 16:50:21</td>\n",
       "      <td>None</td>\n",
       "    </tr>\n",
       "    <tr>\n",
       "      <th>3</th>\n",
       "      <td>Ônibus</td>\n",
       "      <td>Verificação de ar condicionado inoperante no ô...</td>\n",
       "      <td>2023-04-01 14:34:27</td>\n",
       "      <td>None</td>\n",
       "    </tr>\n",
       "    <tr>\n",
       "      <th>4</th>\n",
       "      <td>Ônibus</td>\n",
       "      <td>Verificação de ar condicionado inoperante no ô...</td>\n",
       "      <td>2023-04-01 12:44:24</td>\n",
       "      <td>None</td>\n",
       "    </tr>\n",
       "    <tr>\n",
       "      <th>...</th>\n",
       "      <td>...</td>\n",
       "      <td>...</td>\n",
       "      <td>...</td>\n",
       "      <td>...</td>\n",
       "    </tr>\n",
       "    <tr>\n",
       "      <th>68</th>\n",
       "      <td>Atendimento ao cidadão</td>\n",
       "      <td>Solicitação de correção de falhas e de cadastr...</td>\n",
       "      <td>2023-04-01 14:34:52</td>\n",
       "      <td>None</td>\n",
       "    </tr>\n",
       "    <tr>\n",
       "      <th>69</th>\n",
       "      <td>Atendimento ao cidadão</td>\n",
       "      <td>Solicitação de correção de falhas e de cadastr...</td>\n",
       "      <td>2023-04-01 07:46:01</td>\n",
       "      <td>None</td>\n",
       "    </tr>\n",
       "    <tr>\n",
       "      <th>70</th>\n",
       "      <td>Atendimento ao cidadão</td>\n",
       "      <td>Solicitação de correção de falhas e de cadastr...</td>\n",
       "      <td>2023-04-01 08:09:28</td>\n",
       "      <td>None</td>\n",
       "    </tr>\n",
       "    <tr>\n",
       "      <th>71</th>\n",
       "      <td>Atendimento ao cidadão</td>\n",
       "      <td>Solicitação de correção de falhas e de cadastr...</td>\n",
       "      <td>2023-04-01 14:29:42</td>\n",
       "      <td>None</td>\n",
       "    </tr>\n",
       "    <tr>\n",
       "      <th>72</th>\n",
       "      <td>Transporte Especial Complementar - TEC</td>\n",
       "      <td>Fiscalização do transporte complementar</td>\n",
       "      <td>2023-04-01 13:08:16</td>\n",
       "      <td>None</td>\n",
       "    </tr>\n",
       "  </tbody>\n",
       "</table>\n",
       "<p>73 rows × 4 columns</p>\n",
       "</div>"
      ],
      "text/plain": [
       "                                      tipo  \\\n",
       "0                   Atendimento ao cidadão   \n",
       "1                                   Ônibus   \n",
       "2                 Estacionamento irregular   \n",
       "3                                   Ônibus   \n",
       "4                                   Ônibus   \n",
       "..                                     ...   \n",
       "68                  Atendimento ao cidadão   \n",
       "69                  Atendimento ao cidadão   \n",
       "70                  Atendimento ao cidadão   \n",
       "71                  Atendimento ao cidadão   \n",
       "72  Transporte Especial Complementar - TEC   \n",
       "\n",
       "                                              subtipo         data_inicio  \\\n",
       "0         Solicitação da gravação do atendimento 1746 2023-04-01 16:46:54   \n",
       "1   Fiscalização de irregularidades em linha de ôn... 2023-04-01 11:47:17   \n",
       "2   Fiscalização de estacionamento irregular de ve... 2023-04-01 16:50:21   \n",
       "3   Verificação de ar condicionado inoperante no ô... 2023-04-01 14:34:27   \n",
       "4   Verificação de ar condicionado inoperante no ô... 2023-04-01 12:44:24   \n",
       "..                                                ...                 ...   \n",
       "68  Solicitação de correção de falhas e de cadastr... 2023-04-01 14:34:52   \n",
       "69  Solicitação de correção de falhas e de cadastr... 2023-04-01 07:46:01   \n",
       "70  Solicitação de correção de falhas e de cadastr... 2023-04-01 08:09:28   \n",
       "71  Solicitação de correção de falhas e de cadastr... 2023-04-01 14:29:42   \n",
       "72            Fiscalização do transporte complementar 2023-04-01 13:08:16   \n",
       "\n",
       "   id_bairro  \n",
       "0       None  \n",
       "1       None  \n",
       "2       None  \n",
       "3       None  \n",
       "4       None  \n",
       "..       ...  \n",
       "68      None  \n",
       "69      None  \n",
       "70      None  \n",
       "71      None  \n",
       "72      None  \n",
       "\n",
       "[73 rows x 4 columns]"
      ]
     },
     "execution_count": 16,
     "metadata": {},
     "output_type": "execute_result"
    }
   ],
   "source": [
    "q5 = \"\"\"\n",
    "SELECT tipo,subtipo, data_inicio,id_bairro,\n",
    "FROM `datario.adm_central_atendimento_1746.chamado`\n",
    "WHERE DATE(data_inicio) = '2023-04-01' \n",
    "  AND id_bairro IS NULL\n",
    "LIMIT 100\n",
    "\"\"\"\n",
    "que5 = bd.read_sql(q5, billing_project_id=project_id)\n",
    "que5.head(100)"
   ]
  },
  {
   "cell_type": "markdown",
   "id": "348b67fce5f51a74",
   "metadata": {},
   "source": [
    "Resposta: \n",
    "Sim, existe. Isso ocorre nas chamadas que são relacionadas ao transporte público, atendimento ao publico, defesa do consumidor,<br>\n",
    "alvára, que não tem ligação com um lugar fisico, que no nosso caso de interesse seria um bairro."
   ]
  },
  {
   "cell_type": "markdown",
   "id": "e51596043250cf60",
   "metadata": {},
   "source": [
    "## Questão 6:\n",
    "Quantos chamados com o subtipo \"Perturbação do sossego\" foram abertos desde 01/01/2022 até 31/12/2023 (incluindo extremidades)?"
   ]
  },
  {
   "cell_type": "code",
   "execution_count": 17,
   "id": "d55dc2f42319a20a",
   "metadata": {
    "ExecuteTime": {
     "end_time": "2024-08-20T13:39:25.457577Z",
     "start_time": "2024-08-20T13:39:22.276610Z"
    }
   },
   "outputs": [
    {
     "name": "stdout",
     "output_type": "stream",
     "text": [
      "Downloading: 100%|\u001b[32m██████████\u001b[0m|\n"
     ]
    },
    {
     "data": {
      "text/html": [
       "<div>\n",
       "<style scoped>\n",
       "    .dataframe tbody tr th:only-of-type {\n",
       "        vertical-align: middle;\n",
       "    }\n",
       "\n",
       "    .dataframe tbody tr th {\n",
       "        vertical-align: top;\n",
       "    }\n",
       "\n",
       "    .dataframe thead th {\n",
       "        text-align: right;\n",
       "    }\n",
       "</style>\n",
       "<table border=\"1\" class=\"dataframe\">\n",
       "  <thead>\n",
       "    <tr style=\"text-align: right;\">\n",
       "      <th></th>\n",
       "      <th>subtipo</th>\n",
       "      <th>qtd_chamados_pertubacao</th>\n",
       "    </tr>\n",
       "  </thead>\n",
       "  <tbody>\n",
       "    <tr>\n",
       "      <th>0</th>\n",
       "      <td>Perturbação do sossego</td>\n",
       "      <td>42830</td>\n",
       "    </tr>\n",
       "  </tbody>\n",
       "</table>\n",
       "</div>"
      ],
      "text/plain": [
       "                  subtipo  qtd_chamados_pertubacao\n",
       "0  Perturbação do sossego                    42830"
      ]
     },
     "execution_count": 17,
     "metadata": {},
     "output_type": "execute_result"
    }
   ],
   "source": [
    "q6 = \"\"\"\n",
    "SELECT subtipo, COUNT(*) AS qtd_chamados_pertubacao\n",
    "FROM `datario.adm_central_atendimento_1746.chamado`\n",
    "WHERE DATE(data_inicio) BETWEEN '2022-01-01' AND '2023-12-31'\n",
    "  AND subtipo = 'Perturbação do sossego'\n",
    "GROUP BY subtipo\n",
    "ORDER BY qtd_chamados_pertubacao DESC\n",
    "\"\"\"\n",
    "que6 = bd.read_sql(q6, billing_project_id=project_id)\n",
    "que6.head()"
   ]
  },
  {
   "cell_type": "markdown",
   "id": "3dee8bd78c118afa",
   "metadata": {},
   "source": [
    "Resposta: Foram realizados 42830 chamados neste intervalo de datas com o subtipo Perturbação do sossego."
   ]
  },
  {
   "cell_type": "markdown",
   "id": "2cacd712799ca5e0",
   "metadata": {},
   "source": [
    "## Questão 7:\n",
    "Selecione os chamados com esse subtipo que foram abertos durante os eventos contidos na tabela de eventos (Reveillon, Carnaval e Rock in Rio)."
   ]
  },
  {
   "cell_type": "code",
   "execution_count": 18,
   "id": "7f0383d4c632d8eb",
   "metadata": {
    "ExecuteTime": {
     "end_time": "2024-08-20T13:54:03.377597Z",
     "start_time": "2024-08-20T13:53:58.610635Z"
    }
   },
   "outputs": [
    {
     "name": "stdout",
     "output_type": "stream",
     "text": [
      "Downloading: 100%|\u001b[32m██████████\u001b[0m|\n"
     ]
    },
    {
     "data": {
      "text/html": [
       "<div>\n",
       "<style scoped>\n",
       "    .dataframe tbody tr th:only-of-type {\n",
       "        vertical-align: middle;\n",
       "    }\n",
       "\n",
       "    .dataframe tbody tr th {\n",
       "        vertical-align: top;\n",
       "    }\n",
       "\n",
       "    .dataframe thead th {\n",
       "        text-align: right;\n",
       "    }\n",
       "</style>\n",
       "<table border=\"1\" class=\"dataframe\">\n",
       "  <thead>\n",
       "    <tr style=\"text-align: right;\">\n",
       "      <th></th>\n",
       "      <th>id_chamado</th>\n",
       "      <th>tipo</th>\n",
       "      <th>subtipo</th>\n",
       "      <th>data_inicio</th>\n",
       "      <th>Evento_no_Dia</th>\n",
       "    </tr>\n",
       "  </thead>\n",
       "  <tbody>\n",
       "    <tr>\n",
       "      <th>0</th>\n",
       "      <td>17659216</td>\n",
       "      <td>Perturbação do sossego</td>\n",
       "      <td>Perturbação do sossego</td>\n",
       "      <td>2022-09-02 10:37:27</td>\n",
       "      <td>Rock in Rio</td>\n",
       "    </tr>\n",
       "    <tr>\n",
       "      <th>1</th>\n",
       "      <td>17659216</td>\n",
       "      <td>Perturbação do sossego</td>\n",
       "      <td>Perturbação do sossego</td>\n",
       "      <td>2022-09-02 10:37:27</td>\n",
       "      <td>Rock in Rio</td>\n",
       "    </tr>\n",
       "    <tr>\n",
       "      <th>2</th>\n",
       "      <td>17661720</td>\n",
       "      <td>Perturbação do sossego</td>\n",
       "      <td>Perturbação do sossego</td>\n",
       "      <td>2022-09-02 23:04:08</td>\n",
       "      <td>Rock in Rio</td>\n",
       "    </tr>\n",
       "    <tr>\n",
       "      <th>3</th>\n",
       "      <td>17661720</td>\n",
       "      <td>Perturbação do sossego</td>\n",
       "      <td>Perturbação do sossego</td>\n",
       "      <td>2022-09-02 23:04:08</td>\n",
       "      <td>Rock in Rio</td>\n",
       "    </tr>\n",
       "    <tr>\n",
       "      <th>4</th>\n",
       "      <td>17661683</td>\n",
       "      <td>Perturbação do sossego</td>\n",
       "      <td>Perturbação do sossego</td>\n",
       "      <td>2022-09-02 22:30:30</td>\n",
       "      <td>Rock in Rio</td>\n",
       "    </tr>\n",
       "  </tbody>\n",
       "</table>\n",
       "</div>"
      ],
      "text/plain": [
       "  id_chamado                    tipo                 subtipo  \\\n",
       "0   17659216  Perturbação do sossego  Perturbação do sossego   \n",
       "1   17659216  Perturbação do sossego  Perturbação do sossego   \n",
       "2   17661720  Perturbação do sossego  Perturbação do sossego   \n",
       "3   17661720  Perturbação do sossego  Perturbação do sossego   \n",
       "4   17661683  Perturbação do sossego  Perturbação do sossego   \n",
       "\n",
       "          data_inicio Evento_no_Dia  \n",
       "0 2022-09-02 10:37:27   Rock in Rio  \n",
       "1 2022-09-02 10:37:27   Rock in Rio  \n",
       "2 2022-09-02 23:04:08   Rock in Rio  \n",
       "3 2022-09-02 23:04:08   Rock in Rio  \n",
       "4 2022-09-02 22:30:30   Rock in Rio  "
      ]
     },
     "execution_count": 18,
     "metadata": {},
     "output_type": "execute_result"
    }
   ],
   "source": [
    "q7 = \"\"\"\n",
    "SELECT c.id_chamado, c.tipo, c.subtipo, c.data_inicio, e.evento AS Evento_no_Dia,\n",
    "FROM `datario.adm_central_atendimento_1746.chamado` c\n",
    "JOIN `datario.turismo_fluxo_visitantes.rede_hoteleira_ocupacao_eventos` e\n",
    "ON DATE(c.data_inicio) = DATE(e.data_inicial)\n",
    "WHERE c.subtipo = 'Perturbação do sossego'\n",
    "  AND e.taxa_ocupacao IN (0.9554, 0.9251, 0.9451, 0.8184)\n",
    "ORDER BY e.data_inicial ASC\n",
    "\"\"\"\n",
    "que7 = bd.read_sql(q7, billing_project_id=project_id)\n",
    "que7.head()"
   ]
  },
  {
   "cell_type": "markdown",
   "id": "9637edd8e6cc82b3",
   "metadata": {},
   "source": [
    "Resposta:\n",
    "\n",
    "Utilizei o taxa_ocupacao como paramêtro para localizar o eventos<br>\n",
    "pois existia eventos com o mesmo nome e isso iria me trazer problemas, por isso<br>\n",
    "decidi utilizar o taxa_ocupação.<br>\n",
    "\n",
    "      Não deixei todas as ocorrências visiveis, pois são muitas\n",
    "      e ficaria \"pesado\" para o IDE."
   ]
  },
  {
   "cell_type": "markdown",
   "id": "4e88b326186abf05",
   "metadata": {},
   "source": [
    "## Questão 8:\n",
    "Quantos chamados desse subtipo foram abertos em cada evento?"
   ]
  },
  {
   "cell_type": "code",
   "execution_count": 19,
   "id": "a7fbf0a0c026e1e7",
   "metadata": {
    "ExecuteTime": {
     "end_time": "2024-08-20T13:55:27.672928Z",
     "start_time": "2024-08-20T13:55:24.380800Z"
    }
   },
   "outputs": [
    {
     "name": "stdout",
     "output_type": "stream",
     "text": [
      "Downloading: 100%|\u001b[32m██████████\u001b[0m|\n"
     ]
    },
    {
     "data": {
      "text/html": [
       "<div>\n",
       "<style scoped>\n",
       "    .dataframe tbody tr th:only-of-type {\n",
       "        vertical-align: middle;\n",
       "    }\n",
       "\n",
       "    .dataframe tbody tr th {\n",
       "        vertical-align: top;\n",
       "    }\n",
       "\n",
       "    .dataframe thead th {\n",
       "        text-align: right;\n",
       "    }\n",
       "</style>\n",
       "<table border=\"1\" class=\"dataframe\">\n",
       "  <thead>\n",
       "    <tr style=\"text-align: right;\">\n",
       "      <th></th>\n",
       "      <th>evento</th>\n",
       "      <th>taxa_ocupacao</th>\n",
       "      <th>data_inicial</th>\n",
       "      <th>data_final</th>\n",
       "      <th>qtd_chamados_eventos</th>\n",
       "    </tr>\n",
       "  </thead>\n",
       "  <tbody>\n",
       "    <tr>\n",
       "      <th>0</th>\n",
       "      <td>Rock in Rio</td>\n",
       "      <td>0.9451</td>\n",
       "      <td>2022-09-08</td>\n",
       "      <td>2022-09-11</td>\n",
       "      <td>936</td>\n",
       "    </tr>\n",
       "    <tr>\n",
       "      <th>1</th>\n",
       "      <td>Rock in Rio</td>\n",
       "      <td>0.8184</td>\n",
       "      <td>2022-09-02</td>\n",
       "      <td>2022-09-04</td>\n",
       "      <td>732</td>\n",
       "    </tr>\n",
       "    <tr>\n",
       "      <th>2</th>\n",
       "      <td>Carnaval</td>\n",
       "      <td>0.9554</td>\n",
       "      <td>2023-02-18</td>\n",
       "      <td>2023-02-21</td>\n",
       "      <td>482</td>\n",
       "    </tr>\n",
       "    <tr>\n",
       "      <th>3</th>\n",
       "      <td>Reveillon</td>\n",
       "      <td>0.9251</td>\n",
       "      <td>2022-12-30</td>\n",
       "      <td>2023-01-01</td>\n",
       "      <td>278</td>\n",
       "    </tr>\n",
       "  </tbody>\n",
       "</table>\n",
       "</div>"
      ],
      "text/plain": [
       "        evento  taxa_ocupacao data_inicial  data_final  qtd_chamados_eventos\n",
       "0  Rock in Rio         0.9451   2022-09-08  2022-09-11                   936\n",
       "1  Rock in Rio         0.8184   2022-09-02  2022-09-04                   732\n",
       "2     Carnaval         0.9554   2023-02-18  2023-02-21                   482\n",
       "3    Reveillon         0.9251   2022-12-30  2023-01-01                   278"
      ]
     },
     "execution_count": 19,
     "metadata": {},
     "output_type": "execute_result"
    }
   ],
   "source": [
    "q8 = \"\"\"\n",
    "SELECT c.evento, c.taxa_ocupacao,c.data_inicial, c.data_final, COUNT(*) AS qtd_chamados_eventos\n",
    "FROM datario.adm_central_atendimento_1746.chamado b\n",
    "JOIN datario.turismo_fluxo_visitantes.rede_hoteleira_ocupacao_eventos c\n",
    "ON DATE(b.data_inicio) BETWEEN DATE(c.data_inicial) AND DATE(c.data_final)\n",
    "WHERE b.subtipo = 'Perturbação do sossego'\n",
    "  AND c.taxa_ocupacao IN (0.9554, 0.9251, 0.9451, 0.8184)\n",
    "GROUP BY c.evento, c.taxa_ocupacao,c.data_inicial, c.data_final\n",
    "ORDER BY qtd_chamados_eventos DESC\n",
    "\"\"\"\n",
    "que8 = bd.read_sql(q8, billing_project_id=project_id)\n",
    "que8.head()"
   ]
  },
  {
   "cell_type": "markdown",
   "id": "58d6968011dac24",
   "metadata": {},
   "source": [
    "Resposta:<br>\n",
    "        Rock In Rio ( 08-09-2022 ) : 468 Chamados<br>\n",
    "        Rock In Rio ( 02-09-2022 ) : 366 Chamados<br>\n",
    "        Carnaval ( 18-02-2023 ) : 241 Chamados<br>\n",
    "        Reveillon ( 30-12-2022 ) : 139 Chamados<br>\n",
    "<br>\n",
    "Eu vi a necessidade de acrescentar a taxa_ocupacao, pelo fato que de há dois eventos\n",
    "com o mesmo nome, Rock In Rio."
   ]
  },
  {
   "cell_type": "markdown",
   "id": "67a628c835721941",
   "metadata": {},
   "source": [
    "## Questão 9:\n",
    "Qual evento teve a maior média diária de chamados abertos desse subtipo?"
   ]
  },
  {
   "cell_type": "code",
   "execution_count": 20,
   "id": "d0a0888c45658799",
   "metadata": {
    "ExecuteTime": {
     "end_time": "2024-08-20T13:58:23.989626Z",
     "start_time": "2024-08-20T13:58:19.296517Z"
    }
   },
   "outputs": [
    {
     "name": "stdout",
     "output_type": "stream",
     "text": [
      "Downloading: 100%|\u001b[32m██████████\u001b[0m|\n"
     ]
    },
    {
     "data": {
      "text/html": [
       "<div>\n",
       "<style scoped>\n",
       "    .dataframe tbody tr th:only-of-type {\n",
       "        vertical-align: middle;\n",
       "    }\n",
       "\n",
       "    .dataframe tbody tr th {\n",
       "        vertical-align: top;\n",
       "    }\n",
       "\n",
       "    .dataframe thead th {\n",
       "        text-align: right;\n",
       "    }\n",
       "</style>\n",
       "<table border=\"1\" class=\"dataframe\">\n",
       "  <thead>\n",
       "    <tr style=\"text-align: right;\">\n",
       "      <th></th>\n",
       "      <th>evento</th>\n",
       "      <th>data_inicial</th>\n",
       "      <th>media_diaria</th>\n",
       "      <th>taxa_ocupacao</th>\n",
       "    </tr>\n",
       "  </thead>\n",
       "  <tbody>\n",
       "    <tr>\n",
       "      <th>0</th>\n",
       "      <td>Rock in Rio</td>\n",
       "      <td>2022-09-02</td>\n",
       "      <td>244.000000</td>\n",
       "      <td>0.8184</td>\n",
       "    </tr>\n",
       "    <tr>\n",
       "      <th>1</th>\n",
       "      <td>Rock in Rio</td>\n",
       "      <td>2022-09-08</td>\n",
       "      <td>234.000000</td>\n",
       "      <td>0.9451</td>\n",
       "    </tr>\n",
       "    <tr>\n",
       "      <th>2</th>\n",
       "      <td>Carnaval</td>\n",
       "      <td>2023-02-18</td>\n",
       "      <td>120.500000</td>\n",
       "      <td>0.9554</td>\n",
       "    </tr>\n",
       "    <tr>\n",
       "      <th>3</th>\n",
       "      <td>Reveillon</td>\n",
       "      <td>2022-12-30</td>\n",
       "      <td>92.666667</td>\n",
       "      <td>0.9251</td>\n",
       "    </tr>\n",
       "  </tbody>\n",
       "</table>\n",
       "</div>"
      ],
      "text/plain": [
       "        evento data_inicial  media_diaria  taxa_ocupacao\n",
       "0  Rock in Rio   2022-09-02    244.000000         0.8184\n",
       "1  Rock in Rio   2022-09-08    234.000000         0.9451\n",
       "2     Carnaval   2023-02-18    120.500000         0.9554\n",
       "3    Reveillon   2022-12-30     92.666667         0.9251"
      ]
     },
     "execution_count": 20,
     "metadata": {},
     "output_type": "execute_result"
    }
   ],
   "source": [
    "q9 = \"\"\"\n",
    "WITH contador AS (\n",
    "  SELECT c.data_inicial ,c.evento,c.taxa_ocupacao ,DATE(b.data_inicio) AS dia, COUNT (*) AS total_chamados\n",
    "  FROM `datario.adm_central_atendimento_1746.chamado` b\n",
    "  JOIN `datario.turismo_fluxo_visitantes.rede_hoteleira_ocupacao_eventos` c\n",
    "  ON DATE(b.data_inicio) BETWEEN DATE(c.data_inicial) AND DATE(c.data_final)\n",
    "  WHERE b.subtipo = 'Perturbação do sossego'\n",
    "  GROUP BY c.data_inicial, c.evento,c.taxa_ocupacao, dia\n",
    "),\n",
    "\n",
    "media_dias AS(\n",
    "  SELECT data_inicial ,evento ,taxa_ocupacao, AVG(total_chamados) AS media_diaria\n",
    "  FROM contador\n",
    "  GROUP BY  data_inicial,evento, taxa_ocupacao\n",
    ")\n",
    "\n",
    "SELECT evento ,data_inicial, media_diaria,taxa_ocupacao\n",
    "FROM media_dias\n",
    "ORDER BY media_diaria DESC\n",
    "LIMIT 4\n",
    "\"\"\"\n",
    "que9 = bd.read_sql(q9, billing_project_id=project_id)\n",
    "que9.head()"
   ]
  },
  {
   "cell_type": "markdown",
   "id": "8b612fc4a107fcec",
   "metadata": {},
   "source": [
    "Resposta: Aqui eu criei duas CTE's para auxiliar na legibilidade do código,<br>\n",
    "então em contador eu faço a contagem em favor das condições e depois eu faço<br>\n",
    "a média.<br>\n",
    "<br>\n",
    "Evento com maior média: Rock In Rio (02-09-2022) = 122,0 "
   ]
  },
  {
   "cell_type": "markdown",
   "id": "540e39d0ab5892ff",
   "metadata": {},
   "source": [
    "## Questão 10:\n",
    "Compare as médias diárias de chamados abertos desse subtipo durante os eventos específicos\n",
    "    (Reveillon, Carnaval e Rock in Rio) e a média diária de chamados abertos\n",
    "    desse subtipo considerando todo o período de 01/01/2022 até 31/12/2023."
   ]
  },
  {
   "cell_type": "markdown",
   "id": "cf295f306b77796d",
   "metadata": {},
   "source": [
    "Pegando a Média Diaria Geral"
   ]
  },
  {
   "cell_type": "code",
   "execution_count": 21,
   "id": "837710471f0afbfc",
   "metadata": {
    "ExecuteTime": {
     "end_time": "2024-08-20T14:02:55.034905Z",
     "start_time": "2024-08-20T14:02:51.346731Z"
    }
   },
   "outputs": [
    {
     "name": "stdout",
     "output_type": "stream",
     "text": [
      "Downloading: 100%|\u001b[32m██████████\u001b[0m|\n"
     ]
    },
    {
     "data": {
      "text/html": [
       "<div>\n",
       "<style scoped>\n",
       "    .dataframe tbody tr th:only-of-type {\n",
       "        vertical-align: middle;\n",
       "    }\n",
       "\n",
       "    .dataframe tbody tr th {\n",
       "        vertical-align: top;\n",
       "    }\n",
       "\n",
       "    .dataframe thead th {\n",
       "        text-align: right;\n",
       "    }\n",
       "</style>\n",
       "<table border=\"1\" class=\"dataframe\">\n",
       "  <thead>\n",
       "    <tr style=\"text-align: right;\">\n",
       "      <th></th>\n",
       "      <th>media_diaria_geral</th>\n",
       "    </tr>\n",
       "  </thead>\n",
       "  <tbody>\n",
       "    <tr>\n",
       "      <th>0</th>\n",
       "      <td>61.982634</td>\n",
       "    </tr>\n",
       "  </tbody>\n",
       "</table>\n",
       "</div>"
      ],
      "text/plain": [
       "   media_diaria_geral\n",
       "0           61.982634"
      ]
     },
     "execution_count": 21,
     "metadata": {},
     "output_type": "execute_result"
    }
   ],
   "source": [
    "q10 = \"\"\"\n",
    "WITH contador AS (\n",
    "  SELECT DATE(data_inicio) AS dia, COUNT(*) AS total_chamados_geral\n",
    "  FROM `datario.adm_central_atendimento_1746.chamado`\n",
    "  WHERE subtipo = 'Perturbação do sossego'\n",
    "    AND DATE(data_inicio) BETWEEN '2022-01-01' AND '2023-12-31'\n",
    "  GROUP BY dia\n",
    "),\n",
    "\n",
    "media_total AS (\n",
    "  SELECT AVG(total_chamados_geral) AS media_diaria_geral\n",
    "  FROM contador\n",
    ")\n",
    "\n",
    "SELECT media_diaria_geral\n",
    "FROM media_total\n",
    "ORDER BY media_diaria_geral DESC\n",
    "\"\"\"\n",
    "que10 = bd.read_sql(q10, billing_project_id=project_id)\n",
    "que10.head()"
   ]
  },
  {
   "cell_type": "markdown",
   "id": "d41a625720cf2e36",
   "metadata": {},
   "source": [
    "Criar Coluna"
   ]
  },
  {
   "cell_type": "code",
   "execution_count": 22,
   "id": "3ea100c2d3f44364",
   "metadata": {
    "ExecuteTime": {
     "end_time": "2024-08-20T14:05:39.233226Z",
     "start_time": "2024-08-20T14:05:39.223738Z"
    }
   },
   "outputs": [],
   "source": [
    "que10['tipo'] = 'Geral'\n",
    "que9['tipo'] = que9['evento']"
   ]
  },
  {
   "cell_type": "markdown",
   "id": "39c322cdac1686d0",
   "metadata": {},
   "source": [
    "Merge dos DataFrames e organizando as colunas"
   ]
  },
  {
   "cell_type": "code",
   "execution_count": 23,
   "id": "5a28294e2cb94885",
   "metadata": {
    "ExecuteTime": {
     "end_time": "2024-08-20T14:09:36.690837Z",
     "start_time": "2024-08-20T14:09:36.676766Z"
    }
   },
   "outputs": [],
   "source": [
    "comparacao = pd.concat([que10, que9], ignore_index=True)\n",
    "colunas = ['tipo', 'evento', 'data_inicial', 'media_diaria', 'media_diaria_geral', 'taxa_ocupacao']\n",
    "comparacao = comparacao[colunas]"
   ]
  },
  {
   "cell_type": "code",
   "execution_count": 24,
   "id": "2ec416ff55ee66e6",
   "metadata": {
    "ExecuteTime": {
     "end_time": "2024-08-20T14:09:37.553620Z",
     "start_time": "2024-08-20T14:09:37.529227Z"
    }
   },
   "outputs": [
    {
     "data": {
      "text/html": [
       "<div>\n",
       "<style scoped>\n",
       "    .dataframe tbody tr th:only-of-type {\n",
       "        vertical-align: middle;\n",
       "    }\n",
       "\n",
       "    .dataframe tbody tr th {\n",
       "        vertical-align: top;\n",
       "    }\n",
       "\n",
       "    .dataframe thead th {\n",
       "        text-align: right;\n",
       "    }\n",
       "</style>\n",
       "<table border=\"1\" class=\"dataframe\">\n",
       "  <thead>\n",
       "    <tr style=\"text-align: right;\">\n",
       "      <th></th>\n",
       "      <th>tipo</th>\n",
       "      <th>evento</th>\n",
       "      <th>data_inicial</th>\n",
       "      <th>media_diaria</th>\n",
       "      <th>media_diaria_geral</th>\n",
       "      <th>taxa_ocupacao</th>\n",
       "    </tr>\n",
       "  </thead>\n",
       "  <tbody>\n",
       "    <tr>\n",
       "      <th>0</th>\n",
       "      <td>Geral</td>\n",
       "      <td>NaN</td>\n",
       "      <td>NaT</td>\n",
       "      <td>NaN</td>\n",
       "      <td>61.982634</td>\n",
       "      <td>NaN</td>\n",
       "    </tr>\n",
       "    <tr>\n",
       "      <th>1</th>\n",
       "      <td>Rock in Rio</td>\n",
       "      <td>Rock in Rio</td>\n",
       "      <td>2022-09-02</td>\n",
       "      <td>244.000000</td>\n",
       "      <td>NaN</td>\n",
       "      <td>0.8184</td>\n",
       "    </tr>\n",
       "    <tr>\n",
       "      <th>2</th>\n",
       "      <td>Rock in Rio</td>\n",
       "      <td>Rock in Rio</td>\n",
       "      <td>2022-09-08</td>\n",
       "      <td>234.000000</td>\n",
       "      <td>NaN</td>\n",
       "      <td>0.9451</td>\n",
       "    </tr>\n",
       "    <tr>\n",
       "      <th>3</th>\n",
       "      <td>Carnaval</td>\n",
       "      <td>Carnaval</td>\n",
       "      <td>2023-02-18</td>\n",
       "      <td>120.500000</td>\n",
       "      <td>NaN</td>\n",
       "      <td>0.9554</td>\n",
       "    </tr>\n",
       "    <tr>\n",
       "      <th>4</th>\n",
       "      <td>Reveillon</td>\n",
       "      <td>Reveillon</td>\n",
       "      <td>2022-12-30</td>\n",
       "      <td>92.666667</td>\n",
       "      <td>NaN</td>\n",
       "      <td>0.9251</td>\n",
       "    </tr>\n",
       "  </tbody>\n",
       "</table>\n",
       "</div>"
      ],
      "text/plain": [
       "          tipo       evento data_inicial  media_diaria  media_diaria_geral  \\\n",
       "0        Geral          NaN          NaT           NaN           61.982634   \n",
       "1  Rock in Rio  Rock in Rio   2022-09-02    244.000000                 NaN   \n",
       "2  Rock in Rio  Rock in Rio   2022-09-08    234.000000                 NaN   \n",
       "3     Carnaval     Carnaval   2023-02-18    120.500000                 NaN   \n",
       "4    Reveillon    Reveillon   2022-12-30     92.666667                 NaN   \n",
       "\n",
       "   taxa_ocupacao  \n",
       "0            NaN  \n",
       "1         0.8184  \n",
       "2         0.9451  \n",
       "3         0.9554  \n",
       "4         0.9251  "
      ]
     },
     "execution_count": 24,
     "metadata": {},
     "output_type": "execute_result"
    }
   ],
   "source": [
    "comparacao.head()"
   ]
  },
  {
   "cell_type": "markdown",
   "id": "da28182c9dfbb5a",
   "metadata": {},
   "source": [
    "Resposta: <br>Aqui, com o poder do python e pandas eu consegui realizar uma comparação melhor<br>\n",
    "e vemos que a média diaria dos eventos Rock in Rio, são bem maiores que a média geral,<br>\n",
    "mas é importante lembrar que a quantidade de dias é muito superior na média geral,<br>\n",
    "é quase 2 anos de análise, então com certeza a média iria abaixar, mas é interessante ver<br>\n",
    "como um evento grande como o Rock in Rio altera a dinâmica da cidade."
   ]
  }
 ],
 "metadata": {
  "kernelspec": {
   "display_name": "Python 3",
   "language": "python",
   "name": "python3"
  },
  "language_info": {
   "codemirror_mode": {
    "name": "ipython",
    "version": 3
   },
   "file_extension": ".py",
   "mimetype": "text/x-python",
   "name": "python",
   "nbconvert_exporter": "python",
   "pygments_lexer": "ipython3",
   "version": "3.12.2"
  }
 },
 "nbformat": 4,
 "nbformat_minor": 5
}
