{
 "cells": [
  {
   "cell_type": "markdown",
   "id": "af7d3914e57bfea9",
   "metadata": {},
   "source": [
    "## Instalar dependencias\n",
    "\n",
    "Nesta parte foi um pouco complicado, pois havia algumas incompatibilidades que não estavam me permitando instalar da forma correta o basedosdados. Então, o que eu fiz foi usar o python na versão 3.10 e instalar o basedosdados na versão 2.0.0b15. Após isso, eu voltei para a versão 3.12 do python e funcionou."
   ]
  },
  {
   "cell_type": "code",
   "execution_count": null,
   "id": "c16ed1f89d73db29",
   "metadata": {},
   "outputs": [],
   "source": [
    "pip install basedosdados"
   ]
  },
  {
   "cell_type": "markdown",
   "id": "80b22bb4c0e3c556",
   "metadata": {},
   "source": [
    "## Importar Bibliotecas necessárias"
   ]
  },
  {
   "cell_type": "code",
   "execution_count": null,
   "id": "b8752adef4f13bf3",
   "metadata": {
    "ExecuteTime": {
     "end_time": "2024-08-20T13:35:13.977074Z",
     "start_time": "2024-08-20T13:35:13.959239Z"
    }
   },
   "outputs": [],
   "source": [
    "import basedosdados as bd\n",
    "import pandas as pd\n",
    "from IPython.display import display"
   ]
  },
  {
   "cell_type": "markdown",
   "id": "b9b53b15538778e3",
   "metadata": {},
   "source": [
    "## Questão 1\n",
    "Quantos chamados foram abertos no dia 01/04/2023?"
   ]
  },
  {
   "cell_type": "code",
   "execution_count": null,
   "id": "fbc121e30a2defb3",
   "metadata": {
    "ExecuteTime": {
     "end_time": "2024-08-20T13:14:04.373067Z",
     "start_time": "2024-08-20T13:14:01.005388Z"
    }
   },
   "outputs": [],
   "source": [
    "q1 = \"\"\"\n",
    "SELECT COUNT(*) AS chamados_abertos\n",
    "FROM `datario.adm_central_atendimento_1746.chamado`\n",
    "WHERE DATE(data_inicio) = '2023-04-01'\n",
    "\"\"\"\n",
    "que1 = bd.read_sql(q1, billing_project_id=\"sinuous-gist-433018-f3\")\n",
    "que1.head()"
   ]
  },
  {
   "cell_type": "markdown",
   "id": "c453f1be9ada6002",
   "metadata": {},
   "source": [
    "Resposta: 1756 chamados abertos no dia 01-04-2023"
   ]
  },
  {
   "cell_type": "markdown",
   "id": "c90c9aa00f053357",
   "metadata": {},
   "source": [
    "## Questão 2:\n",
    "Qual o tipo de chamado que teve mais teve chamados abertos no dia 01/04/2023?"
   ]
  },
  {
   "cell_type": "code",
   "execution_count": null,
   "id": "e381f687976cf67b",
   "metadata": {
    "ExecuteTime": {
     "end_time": "2024-08-20T13:14:21.672454Z",
     "start_time": "2024-08-20T13:14:17.576813Z"
    }
   },
   "outputs": [],
   "source": [
    "q2 = \"\"\"\n",
    "SELECT tipo, COUNT(*) AS qtd_chamados\n",
    "FROM `datario.adm_central_atendimento_1746.chamado`\n",
    "WHERE DATE(data_inicio) = '2023-04-01'\n",
    "GROUP BY tipo\n",
    "ORDER BY qtd_chamados DESC\n",
    "LIMIT 1\n",
    "\"\"\"\n",
    "que2 = bd.read_sql(q2, billing_project_id=\"sinuous-gist-433018-f3\")\n",
    "que2.head()"
   ]
  },
  {
   "cell_type": "markdown",
   "id": "614220162bc37144",
   "metadata": {},
   "source": [
    "Resposta: Estacionamento irregular, com 366 chamados"
   ]
  },
  {
   "cell_type": "markdown",
   "id": "16423159d1aa9f96",
   "metadata": {},
   "source": [
    "## Questão 3:\n",
    "Questão 3: Quais os nomes dos 3 bairros que mais tiveram chamados abertos nesse dia?"
   ]
  },
  {
   "cell_type": "code",
   "execution_count": null,
   "id": "4fb2148048cd9b6b",
   "metadata": {
    "ExecuteTime": {
     "end_time": "2024-08-20T14:22:59.810281Z",
     "start_time": "2024-08-20T14:22:52.586638Z"
    }
   },
   "outputs": [],
   "source": [
    "q3 = \"\"\"\n",
    "SELECT id_bairro, COUNT(*) AS qtd_chamados_bairro\n",
    "FROM `datario.adm_central_atendimento_1746.chamado`\n",
    "WHERE DATE(data_inicio) = '2023-04-01'\n",
    "GROUP BY id_bairro\n",
    "ORDER BY qtd_chamados_bairro DESC\n",
    "LIMIT 4\n",
    "\"\"\"\n",
    "\n",
    "q3_1 = \"\"\"\n",
    "SELECT *\n",
    "FROM `datario.dados_mestres.bairro`\n",
    "WHERE id_bairro IN ('144', '33','128')\n",
    "\"\"\"\n",
    "que3_1 = bd.read_sql(q3_1, billing_project_id=\"sinuous-gist-433018-f3\")\n",
    "que3 = bd.read_sql(q3, billing_project_id=\"sinuous-gist-433018-f3\")\n",
    "\n",
    "display(que3.head())\n",
    "display(que3_1.head())"
   ]
  },
  {
   "cell_type": "markdown",
   "id": "c581a805aca74a02",
   "metadata": {},
   "source": [
    "Resposta:\n",
    "Nesta questão, eu filtrei os 3 bairros com mais chamados, porém o 3º bairro não havia<br>\n",
    "id de identificação do bairro, dessa forma eu desconsiderei o 3º colocado e fui para o 4º bairro com mais<br>\n",
    "ocorrências.<br>\n",
    "    1º : Campo Grande, ID 144 - Chamados : 113<br>\n",
    "    2º : Tijuca, ID 33 - Chamados : 89<br>\n",
    "    3º : Barra da Tijuca, ID 128 - Chamados : 59<br>\n",
    "    3º : NULL - Chamados : 73 ( Provavelmente, são os chamados que não tem ligação com um lugar fisico.)<br>"
   ]
  },
  {
   "cell_type": "markdown",
   "id": "916ee109d942d396",
   "metadata": {},
   "source": [
    "## Questão 4:\n",
    "Qual o nome da subprefeitura com mais chamados abertos nesse dia?"
   ]
  },
  {
   "cell_type": "code",
   "execution_count": null,
   "id": "59542eb723534d5e",
   "metadata": {
    "ExecuteTime": {
     "end_time": "2024-08-20T13:23:53.434166Z",
     "start_time": "2024-08-20T13:23:44.618993Z"
    }
   },
   "outputs": [],
   "source": [
    "q4 = \"\"\"\n",
    "SELECT b.subprefeitura, COUNT(c.id_bairro) AS qtd_chamados_subprefeitura\n",
    "FROM datario.adm_central_atendimento_1746.chamado c\n",
    "JOIN datario.dados_mestres.bairro b\n",
    "ON c.id_bairro = b.id_bairro\n",
    "WHERE DATE(c.data_inicio) = '2023-04-01'\n",
    "GROUP BY b.subprefeitura\n",
    "ORDER BY qtd_chamados_subprefeitura DESC\n",
    "LIMIT 1;\n",
    "\"\"\"\n",
    "que4 = bd.read_sql(q4, billing_project_id=\"sinuous-gist-433018-f3\")\n",
    "que4.head()"
   ]
  },
  {
   "cell_type": "markdown",
   "id": "c59a5e1a5727876a",
   "metadata": {},
   "source": [
    "Resposta: Subprefeitura Zona Norte, com 510 chamados"
   ]
  },
  {
   "cell_type": "markdown",
   "id": "f7923667a0ecfcbf",
   "metadata": {},
   "source": [
    "## Questão 5:\n",
    "Existe algum chamado aberto nesse dia que não foi associado a um bairro ou subprefeitura na tabela de bairros?Se sim, por que isso acontece?"
   ]
  },
  {
   "cell_type": "code",
   "execution_count": null,
   "id": "921c9c4b1cf1bd8d",
   "metadata": {},
   "outputs": [],
   "source": [
    "q5 = \"\"\"\n",
    "SELECT tipo,subtipo, data_inicio,id_bairro,\n",
    "FROM `datario.adm_central_atendimento_1746.chamado`\n",
    "WHERE DATE(data_inicio) = '2023-04-01' \n",
    "  AND id_bairro IS NULL\n",
    "LIMIT 100\n",
    "\"\"\"\n",
    "que5 = bd.read_sql(q5, billing_project_id=\"sinuous-gist-433018-f3\")\n",
    "que5.head(100)"
   ]
  },
  {
   "cell_type": "markdown",
   "id": "348b67fce5f51a74",
   "metadata": {},
   "source": [
    "Resposta: \n",
    "Sim, existe. Isso ocorre nas chamadas que são relacionadas ao transporte público, atendimento ao publico, defesa do consumidor,<br>\n",
    "alvára, que não tem ligação com um lugar fisico, que no nosso caso de interesse seria um bairro."
   ]
  },
  {
   "cell_type": "markdown",
   "id": "e51596043250cf60",
   "metadata": {},
   "source": [
    "## Questão 6:\n",
    "Quantos chamados com o subtipo \"Perturbação do sossego\" foram abertos desde 01/01/2022 até 31/12/2023 (incluindo extremidades)?"
   ]
  },
  {
   "cell_type": "code",
   "execution_count": null,
   "id": "d55dc2f42319a20a",
   "metadata": {
    "ExecuteTime": {
     "end_time": "2024-08-20T13:39:25.457577Z",
     "start_time": "2024-08-20T13:39:22.276610Z"
    }
   },
   "outputs": [],
   "source": [
    "q6 = \"\"\"\n",
    "SELECT subtipo, COUNT(*) AS qtd_chamados_pertubacao\n",
    "FROM `datario.adm_central_atendimento_1746.chamado`\n",
    "WHERE DATE(data_inicio) BETWEEN '2022-01-01' AND '2023-12-31'\n",
    "  AND subtipo = 'Perturbação do sossego'\n",
    "GROUP BY subtipo\n",
    "ORDER BY qtd_chamados_pertubacao DESC\n",
    "\"\"\"\n",
    "que6 = bd.read_sql(q6, billing_project_id=\"sinuous-gist-433018-f3\")\n",
    "que6.head()"
   ]
  },
  {
   "cell_type": "markdown",
   "id": "3dee8bd78c118afa",
   "metadata": {},
   "source": [
    "Resposta: Foram realizados 42830 chamados neste intervalo de datas com o subtipo Perturbação do sossego."
   ]
  },
  {
   "cell_type": "markdown",
   "id": "2cacd712799ca5e0",
   "metadata": {},
   "source": [
    "## Questão 7:\n",
    "Selecione os chamados com esse subtipo que foram abertos durante os eventos contidos na tabela de eventos (Reveillon, Carnaval e Rock in Rio)."
   ]
  },
  {
   "cell_type": "code",
   "execution_count": null,
   "id": "7f0383d4c632d8eb",
   "metadata": {
    "ExecuteTime": {
     "end_time": "2024-08-20T13:54:03.377597Z",
     "start_time": "2024-08-20T13:53:58.610635Z"
    }
   },
   "outputs": [],
   "source": [
    "q7 = \"\"\"\n",
    "SELECT c.id_chamado, c.tipo, c.subtipo, c.data_inicio, e.evento AS Evento_no_Dia,\n",
    "FROM `datario.adm_central_atendimento_1746.chamado` c\n",
    "JOIN `datario.turismo_fluxo_visitantes.rede_hoteleira_ocupacao_eventos` e\n",
    "ON DATE(c.data_inicio) = DATE(e.data_inicial)\n",
    "WHERE c.subtipo = 'Perturbação do sossego'\n",
    "  AND e.taxa_ocupacao IN (0.9554, 0.9251, 0.9451, 0.8184)\n",
    "ORDER BY e.data_inicial ASC\n",
    "\"\"\"\n",
    "que7 = bd.read_sql(q7, billing_project_id=\"sinuous-gist-433018-f3\")\n",
    "que7.head()"
   ]
  },
  {
   "cell_type": "markdown",
   "id": "9637edd8e6cc82b3",
   "metadata": {},
   "source": [
    "Resposta:\n",
    "\n",
    "Utilizei o taxa_ocupacao como paramêtro para localizar o eventos<br>\n",
    "pois existia eventos com o mesmo nome e isso iria me trazer problemas, por isso<br>\n",
    "decidi utilizar o taxa_ocupação.<br>\n",
    "\n",
    "      Não deixei todas as ocorrências visiveis, pois são muitas\n",
    "      e ficaria \"pesado\" para o IDE."
   ]
  },
  {
   "cell_type": "markdown",
   "id": "4e88b326186abf05",
   "metadata": {},
   "source": [
    "## Questão 8:\n",
    "Quantos chamados desse subtipo foram abertos em cada evento?"
   ]
  },
  {
   "cell_type": "code",
   "execution_count": null,
   "id": "a7fbf0a0c026e1e7",
   "metadata": {
    "ExecuteTime": {
     "end_time": "2024-08-20T13:55:27.672928Z",
     "start_time": "2024-08-20T13:55:24.380800Z"
    }
   },
   "outputs": [],
   "source": [
    "q8 = \"\"\"\n",
    "SELECT c.evento, c.taxa_ocupacao,c.data_inicial, c.data_final, COUNT(*) AS qtd_chamados_eventos\n",
    "FROM datario.adm_central_atendimento_1746.chamado b\n",
    "JOIN datario.turismo_fluxo_visitantes.rede_hoteleira_ocupacao_eventos c\n",
    "ON DATE(b.data_inicio) BETWEEN DATE(c.data_inicial) AND DATE(c.data_final)\n",
    "WHERE b.subtipo = 'Perturbação do sossego'\n",
    "  AND c.taxa_ocupacao IN (0.9554, 0.9251, 0.9451, 0.8184)\n",
    "GROUP BY c.evento, c.taxa_ocupacao,c.data_inicial, c.data_final\n",
    "ORDER BY qtd_chamados_eventos DESC\n",
    "\"\"\"\n",
    "que8 = bd.read_sql(q8, billing_project_id=\"sinuous-gist-433018-f3\")\n",
    "que8.head()"
   ]
  },
  {
   "cell_type": "markdown",
   "id": "58d6968011dac24",
   "metadata": {},
   "source": [
    "Resposta:<br>\n",
    "        Rock In Rio ( 08-09-2022 ) : 468 Chamados<br>\n",
    "        Rock In Rio ( 02-09-2022 ) : 366 Chamados<br>\n",
    "        Carnaval ( 18-02-2023 ) : 241 Chamados<br>\n",
    "        Reveillon ( 30-12-2022 ) : 139 Chamados<br>\n",
    "<br>\n",
    "Eu vi a necessidade de acrescentar a taxa_ocupacao, pelo fato que de há dois eventos\n",
    "com o mesmo nome, Rock In Rio."
   ]
  },
  {
   "cell_type": "markdown",
   "id": "67a628c835721941",
   "metadata": {},
   "source": [
    "## Questão 9:\n",
    "Qual evento teve a maior média diária de chamados abertos desse subtipo?"
   ]
  },
  {
   "cell_type": "code",
   "execution_count": null,
   "id": "d0a0888c45658799",
   "metadata": {
    "ExecuteTime": {
     "end_time": "2024-08-20T13:58:23.989626Z",
     "start_time": "2024-08-20T13:58:19.296517Z"
    }
   },
   "outputs": [],
   "source": [
    "q9 = \"\"\"\n",
    "WITH contador AS (\n",
    "  SELECT c.data_inicial ,c.evento,c.taxa_ocupacao ,DATE(b.data_inicio) AS dia, COUNT (*) AS total_chamados\n",
    "  FROM `datario.adm_central_atendimento_1746.chamado` b\n",
    "  JOIN `datario.turismo_fluxo_visitantes.rede_hoteleira_ocupacao_eventos` c\n",
    "  ON DATE(b.data_inicio) BETWEEN DATE(c.data_inicial) AND DATE(c.data_final)\n",
    "  WHERE b.subtipo = 'Perturbação do sossego'\n",
    "  GROUP BY c.data_inicial, c.evento,c.taxa_ocupacao, dia\n",
    "),\n",
    "\n",
    "media_dias AS(\n",
    "  SELECT data_inicial ,evento ,taxa_ocupacao, AVG(total_chamados) AS media_diaria\n",
    "  FROM contador\n",
    "  GROUP BY  data_inicial,evento, taxa_ocupacao\n",
    ")\n",
    "\n",
    "SELECT evento ,data_inicial, media_diaria,taxa_ocupacao\n",
    "FROM media_dias\n",
    "ORDER BY media_diaria DESC\n",
    "LIMIT 4\n",
    "\"\"\"\n",
    "que9 = bd.read_sql(q9, billing_project_id=\"sinuous-gist-433018-f3\")\n",
    "que9.head()"
   ]
  },
  {
   "cell_type": "markdown",
   "id": "8b612fc4a107fcec",
   "metadata": {},
   "source": [
    "Resposta: Aqui eu criei duas CTE's para auxiliar na legibilidade do código,<br>\n",
    "então em contador eu faço a contagem em favor das condições e depois eu faço<br>\n",
    "a média.<br>\n",
    "<br>\n",
    "Evento com maior média: Rock In Rio (02-09-2022) = 122,0 "
   ]
  },
  {
   "cell_type": "markdown",
   "id": "540e39d0ab5892ff",
   "metadata": {},
   "source": [
    "## Questão 10:\n",
    "Compare as médias diárias de chamados abertos desse subtipo durante os eventos específicos\n",
    "    (Reveillon, Carnaval e Rock in Rio) e a média diária de chamados abertos\n",
    "    desse subtipo considerando todo o período de 01/01/2022 até 31/12/2023."
   ]
  },
  {
   "cell_type": "markdown",
   "id": "cf295f306b77796d",
   "metadata": {},
   "source": [
    "Pegando a Média Diaria Geral"
   ]
  },
  {
   "cell_type": "code",
   "execution_count": null,
   "id": "837710471f0afbfc",
   "metadata": {
    "ExecuteTime": {
     "end_time": "2024-08-20T14:02:55.034905Z",
     "start_time": "2024-08-20T14:02:51.346731Z"
    }
   },
   "outputs": [],
   "source": [
    "q10 = \"\"\"\n",
    "WITH contador AS (\n",
    "  SELECT DATE(data_inicio) AS dia, COUNT(*) AS total_chamados_geral\n",
    "  FROM `datario.adm_central_atendimento_1746.chamado`\n",
    "  WHERE subtipo = 'Perturbação do sossego'\n",
    "    AND DATE(data_inicio) BETWEEN '2022-01-01' AND '2023-12-31'\n",
    "  GROUP BY dia\n",
    "),\n",
    "\n",
    "media_total AS (\n",
    "  SELECT AVG(total_chamados_geral) AS media_diaria_geral\n",
    "  FROM contador\n",
    ")\n",
    "\n",
    "SELECT media_diaria_geral\n",
    "FROM media_total\n",
    "ORDER BY media_diaria_geral DESC\n",
    "\"\"\"\n",
    "que10 = bd.read_sql(q10, billing_project_id=\"sinuous-gist-433018-f3\")\n",
    "que10.head()"
   ]
  },
  {
   "cell_type": "markdown",
   "id": "d41a625720cf2e36",
   "metadata": {},
   "source": [
    "Criar Coluna"
   ]
  },
  {
   "cell_type": "code",
   "execution_count": null,
   "id": "3ea100c2d3f44364",
   "metadata": {
    "ExecuteTime": {
     "end_time": "2024-08-20T14:05:39.233226Z",
     "start_time": "2024-08-20T14:05:39.223738Z"
    }
   },
   "outputs": [],
   "source": [
    "que10['tipo'] = 'Geral'\n",
    "que9['tipo'] = que9['evento']"
   ]
  },
  {
   "cell_type": "markdown",
   "id": "39c322cdac1686d0",
   "metadata": {},
   "source": [
    "Merge dos DataFrames e organizando as colunas"
   ]
  },
  {
   "cell_type": "code",
   "execution_count": null,
   "id": "5a28294e2cb94885",
   "metadata": {
    "ExecuteTime": {
     "end_time": "2024-08-20T14:09:36.690837Z",
     "start_time": "2024-08-20T14:09:36.676766Z"
    }
   },
   "outputs": [],
   "source": [
    "comparacao = pd.concat([que10, que9], ignore_index=True)\n",
    "colunas = ['tipo', 'evento', 'data_inicial', 'media_diaria', 'media_diaria_geral', 'taxa_ocupacao']\n",
    "comparacao = comparacao[colunas]"
   ]
  },
  {
   "cell_type": "code",
   "execution_count": null,
   "id": "2ec416ff55ee66e6",
   "metadata": {
    "ExecuteTime": {
     "end_time": "2024-08-20T14:09:37.553620Z",
     "start_time": "2024-08-20T14:09:37.529227Z"
    }
   },
   "outputs": [],
   "source": [
    "comparacao.head()"
   ]
  },
  {
   "cell_type": "markdown",
   "id": "da28182c9dfbb5a",
   "metadata": {},
   "source": [
    "Resposta: <br>Aqui, com o poder do python e pandas eu consegui realizar uma comparação melhor<br>\n",
    "e vemos que a média diaria dos eventos Rock in Rio, são bem maiores que a média geral,<br>\n",
    "mas é importante lembrar que a quantidade de dias é muito superior na média geral,<br>\n",
    "é quase 2 anos de análise, então com certeza a média iria abaixar, mas é interessante ver<br>\n",
    "como um evento grande como o Rock in Rio altera a dinâmica da cidade."
   ]
  },
  {
   "cell_type": "code",
   "execution_count": null,
   "id": "df17837ab358bfed",
   "metadata": {},
   "outputs": [],
   "source": []
  }
 ],
 "metadata": {
  "kernelspec": {
   "display_name": "Python 3",
   "language": "python",
   "name": "python3"
  },
  "language_info": {
   "codemirror_mode": {
    "name": "ipython",
    "version": 3
   },
   "file_extension": ".py",
   "mimetype": "text/x-python",
   "name": "python",
   "nbconvert_exporter": "python",
   "pygments_lexer": "ipython3",
   "version": "3.12.2"
  }
 },
 "nbformat": 4,
 "nbformat_minor": 5
}
