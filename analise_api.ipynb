{
 "cells": [
  {
   "cell_type": "markdown",
   "id": "efbfd041afdf1e8c",
   "metadata": {},
   "source": []
  },
  {
   "cell_type": "markdown",
   "id": "cb69482c721f065f",
   "metadata": {},
   "source": [
    "## Imports\n",
    "Realizando os imports necessários para usar as API's"
   ]
  },
  {
   "cell_type": "code",
   "execution_count": null,
   "id": "8d156189d330b28c",
   "metadata": {},
   "outputs": [],
   "source": [
    "import json\n",
    "import requests\n",
    "import pandas as pd"
   ]
  },
  {
   "cell_type": "markdown",
   "id": "918200d272a97dfd",
   "metadata": {},
   "source": [
    "## Questão 1:\n",
    "Quantos feriados há no Brasil em todo o ano de 2024?\n",
    "\n",
    "Usei a API Nager.DATE ( Public Holidays )<br>\n",
    "Aqui usei a API e laço for para contabilizar a quantidade de feriados no ano de 2024"
   ]
  },
  {
   "cell_type": "code",
   "execution_count": null,
   "id": "initial_id",
   "metadata": {
    "collapsed": true
   },
   "outputs": [],
   "source": [
    "response = requests.get('https://date.nager.at/api/v3/publicholidays/2024/BR')\n",
    "public_holidays = json.loads(response.content)\n",
    "feriados_2024 = 0\n",
    "\n",
    "for public_holiday in public_holidays:\n",
    "  feriados_2024 += 1\n",
    "  \n",
    "print(feriados_2024)"
   ]
  },
  {
   "cell_type": "markdown",
   "id": "9959064960850111",
   "metadata": {},
   "source": [
    "Resposta: Em 2024 teremos 14 feriados"
   ]
  },
  {
   "cell_type": "markdown",
   "id": "9af0c8958c21a516",
   "metadata": {},
   "source": [
    "## Questão 2:\n",
    "Qual mês de 2024 tem o maior número de feriados?"
   ]
  },
  {
   "cell_type": "markdown",
   "id": "db1c93b07e0b5fde",
   "metadata": {},
   "source": [
    "Nessa primeira parte eu decidi criar um DataFrame com os feriados, para que eu pudesse ir utilizando<br>\n",
    "essa base de dados durante as questões."
   ]
  },
  {
   "cell_type": "code",
   "execution_count": null,
   "id": "b1ba3ab95f2fb84",
   "metadata": {},
   "outputs": [],
   "source": [
    "df_feriados = pd.DataFrame(columns=['Holiday Name', 'Date'])\n",
    "rows = []\n",
    "\n",
    "for public_holiday in public_holidays:\n",
    "  rows.append({'Holiday Name': public_holiday['name'], 'Date': public_holiday['date'],})\n",
    "  \n",
    "df_feriados = pd.concat([df_feriados, pd.DataFrame(rows)], ignore_index=True)\n",
    "df_feriados['Date'] = pd.to_datetime(df_feriados['Date'])\n",
    "df_feriados['Month'] = df_feriados['Date'].dt.month_name()\n",
    "df_feriados['Weekday'] = df_feriados['Date'].dt.day_name()"
   ]
  },
  {
   "cell_type": "markdown",
   "id": "177437f613a44cb4",
   "metadata": {},
   "source": [
    "Visualização do DataFrame"
   ]
  },
  {
   "cell_type": "code",
   "execution_count": null,
   "id": "6c88361ca1afb0be",
   "metadata": {},
   "outputs": [],
   "source": [
    "df_feriados.head(30)"
   ]
  },
  {
   "cell_type": "markdown",
   "id": "777e78f07de13244",
   "metadata": {},
   "source": [
    "Aqui onde de fato eu fiz a captura dos meses que tinham mais feriados no ano de 2024.<br>\n",
    "Usei dt.month para capturar apenas o mês da coluna Date, que foi passada para datetime anteriormente<br>\n",
    "e como havia meses com a mesma quantidade de feriados, usei .max para pegar o valor máximo e printar<br>\n",
    "todos que estavam no valor máximo"
   ]
  },
  {
   "cell_type": "code",
   "execution_count": null,
   "id": "d05df0c1c7199472",
   "metadata": {},
   "outputs": [],
   "source": [
    "feriados_por_mes = df_feriados['Date'].dt.month.value_counts().sort_index()\n",
    "max_feriados = feriados_por_mes.max()\n",
    "meses_com_max_feriados = feriados_por_mes[feriados_por_mes == max_feriados]\n",
    "\n",
    "print(\"Meses com o maior número de feriados:\\n\")\n",
    "print(meses_com_max_feriados)"
   ]
  },
  {
   "cell_type": "markdown",
   "id": "448332f7961fcbf5",
   "metadata": {},
   "source": [
    "Resposta: <br>\n",
    "2 - Fevereiro ----- 2 feriados<br>\n",
    "3 - Março ----- 2 feriados <br>\n",
    "5 - Maio ----- 2 feriados<br>\n",
    "11 - Novembro ----- 2 feriados<br>"
   ]
  },
  {
   "cell_type": "code",
   "execution_count": null,
   "id": "27d098d56e446f0",
   "metadata": {},
   "outputs": [],
   "source": []
  }
 ],
 "metadata": {
  "kernelspec": {
   "display_name": "Python 3",
   "language": "python",
   "name": "python3"
  },
  "language_info": {
   "codemirror_mode": {
    "name": "ipython",
    "version": 2
   },
   "file_extension": ".py",
   "mimetype": "text/x-python",
   "name": "python",
   "nbconvert_exporter": "python",
   "pygments_lexer": "ipython2",
   "version": "2.7.6"
  }
 },
 "nbformat": 4,
 "nbformat_minor": 5
}
