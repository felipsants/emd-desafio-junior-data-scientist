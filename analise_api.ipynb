{
 "cells": [
  {
   "cell_type": "markdown",
   "id": "efbfd041afdf1e8c",
   "metadata": {},
   "source": []
  },
  {
   "cell_type": "markdown",
   "id": "1a08ebd0",
   "metadata": {},
   "source": [
    "## Instalando Bibliotecas"
   ]
  },
  {
   "cell_type": "code",
   "execution_count": null,
   "id": "11dce3f9",
   "metadata": {},
   "outputs": [],
   "source": [
    "pip install openmeteo-requests requests-cache retry-requests"
   ]
  },
  {
   "cell_type": "markdown",
   "id": "cb69482c721f065f",
   "metadata": {},
   "source": [
    "## Imports\n",
    "Realizando os imports necessários para usar as API's"
   ]
  },
  {
   "cell_type": "code",
   "execution_count": null,
   "id": "8d156189d330b28c",
   "metadata": {},
   "outputs": [],
   "source": [
    "import json\n",
    "import requests\n",
    "import pandas as pd\n",
    "import openmeteo_requests\n",
    "import requests_cache\n",
    "import pandas as pd\n",
    "from retry_requests import retry"
   ]
  },
  {
   "cell_type": "markdown",
   "id": "918200d272a97dfd",
   "metadata": {},
   "source": [
    "## Questão 1:\n",
    "Quantos feriados há no Brasil em todo o ano de 2024?\n",
    "\n",
    "Usei a API Nager.DATE ( Public Holidays )<br>\n",
    "Aqui usei a API e laço for para contabilizar a quantidade de feriados no ano de 2024"
   ]
  },
  {
   "cell_type": "code",
   "execution_count": null,
   "id": "initial_id",
   "metadata": {
    "collapsed": true
   },
   "outputs": [],
   "source": [
    "response = requests.get('https://date.nager.at/api/v3/publicholidays/2024/BR')\n",
    "public_holidays = json.loads(response.content)\n",
    "feriados_2024 = 0\n",
    "\n",
    "for public_holiday in public_holidays:\n",
    "  feriados_2024 += 1\n",
    "  \n",
    "print(feriados_2024)"
   ]
  },
  {
   "cell_type": "markdown",
   "id": "9959064960850111",
   "metadata": {},
   "source": [
    "Resposta: Em 2024 teremos 14 feriados"
   ]
  },
  {
   "cell_type": "markdown",
   "id": "9af0c8958c21a516",
   "metadata": {},
   "source": [
    "## Questão 2:\n",
    "Qual mês de 2024 tem o maior número de feriados?"
   ]
  },
  {
   "cell_type": "markdown",
   "id": "db1c93b07e0b5fde",
   "metadata": {},
   "source": [
    "Nessa primeira parte eu decidi criar um DataFrame com os feriados, para que eu pudesse ir utilizando<br>\n",
    "essa base de dados durante as questões."
   ]
  },
  {
   "cell_type": "code",
   "execution_count": null,
   "id": "b1ba3ab95f2fb84",
   "metadata": {},
   "outputs": [],
   "source": [
    "df_feriados = pd.DataFrame(columns=['Holiday Name', 'Date'])\n",
    "rows = []\n",
    "\n",
    "for public_holiday in public_holidays:\n",
    "  rows.append({'Holiday Name': public_holiday['name'], 'Date': public_holiday['date'],})\n",
    "  \n",
    "df_feriados = pd.concat([df_feriados, pd.DataFrame(rows)], ignore_index=True)\n",
    "df_feriados['Date'] = pd.to_datetime(df_feriados['Date']) + pd.DateOffset(hours=3)\n",
    "df_feriados['Month'] = df_feriados['Date'].dt.month_name()\n",
    "df_feriados['Day'] = df_feriados['Date'].dt.weekday\n",
    "df_feriados['Weekday'] = df_feriados['Date'].dt.day_name()"
   ]
  },
  {
   "cell_type": "markdown",
   "id": "177437f613a44cb4",
   "metadata": {},
   "source": [
    "Visualização do DataFrame"
   ]
  },
  {
   "cell_type": "code",
   "execution_count": null,
   "id": "6c88361ca1afb0be",
   "metadata": {},
   "outputs": [],
   "source": [
    "df_feriados.head(30)"
   ]
  },
  {
   "cell_type": "markdown",
   "id": "777e78f07de13244",
   "metadata": {},
   "source": [
    "Aqui onde de fato eu fiz a captura dos meses que tinham mais feriados no ano de 2024.<br>\n",
    "Usei dt.month para capturar apenas o mês da coluna Date, que foi passada para datetime anteriormente<br>\n",
    "e como havia meses com a mesma quantidade de feriados, usei .max para pegar o valor máximo e printar<br>\n",
    "todos que estavam no valor máximo"
   ]
  },
  {
   "cell_type": "code",
   "execution_count": null,
   "id": "d05df0c1c7199472",
   "metadata": {},
   "outputs": [],
   "source": [
    "feriados_por_mes = df_feriados['Date'].dt.month.value_counts().sort_index()\n",
    "max_feriados = feriados_por_mes.max()\n",
    "meses_com_max_feriados = feriados_por_mes[feriados_por_mes == max_feriados]\n",
    "\n",
    "print(\"Meses com o maior número de feriados:\\n\")\n",
    "print(meses_com_max_feriados)"
   ]
  },
  {
   "cell_type": "markdown",
   "id": "448332f7961fcbf5",
   "metadata": {},
   "source": [
    "Resposta: <br>\n",
    "2 - Fevereiro ----- 2 feriados<br>\n",
    "3 - Março ----- 2 feriados <br>\n",
    "5 - Maio ----- 2 feriados<br>\n",
    "11 - Novembro ----- 2 feriados<br>"
   ]
  },
  {
   "cell_type": "markdown",
   "metadata": {},
   "source": [
    "## Questão 3: \n",
    "Quantos feriados em 2024 caem em dias de semana (segunda a sexta-feira)?\n"
   ]
  },
  {
   "cell_type": "markdown",
   "id": "72c1ad1e",
   "metadata": {},
   "source": [
    "Aqui eu aproveitei o DataFrame e fiz um laço for para percorrer a coluna dias, e verificar<br>\n",
    "quantos dias ficam entre segunda e sexta (entre 0 e 4)."
   ]
  },
  {
   "cell_type": "code",
   "execution_count": null,
   "id": "27d098d56e446f0",
   "metadata": {},
   "outputs": [],
   "source": [
    "count_dias_semana = 0\n",
    "\n",
    "for dia in df_feriados['Day']:\n",
    "    if 0 <= dia <= 4:\n",
    "        count_dias_semana += 1"
   ]
  },
  {
   "cell_type": "code",
   "execution_count": null,
   "id": "2c46b88c",
   "metadata": {},
   "outputs": [],
   "source": [
    "print(count_dias_semana)"
   ]
  },
  {
   "cell_type": "markdown",
   "id": "f7ad774b",
   "metadata": {},
   "source": [
    "Resposta: 9 feriados"
   ]
  },
  {
   "cell_type": "markdown",
   "id": "a9d5953c",
   "metadata": {},
   "source": [
    "## Questão 4:\n",
    "Qual foi a temperatura média em cada mês?"
   ]
  },
  {
   "cell_type": "markdown",
   "id": "9d9ded23",
   "metadata": {},
   "source": [
    "Através do site: [Open Meteo](https://open-meteo.com/en/docs/historical-weather-api#latitude=-22.9064&longitude=-43.1822&start_date=2024-01-01&end_date=2024-08-01&hourly=&daily=temperature_2m_mean&timezone=America%2FSao_Paulo) <br>\n",
    "Eu consegui achar como realizar as configurar para trabalhar com a API. "
   ]
  },
  {
   "cell_type": "code",
   "execution_count": null,
   "id": "b14fcb7b",
   "metadata": {},
   "outputs": [],
   "source": [
    "cache_session = requests_cache.CachedSession('.cache', expire_after = -1)\n",
    "retry_session = retry(cache_session, retries = 5, backoff_factor = 0.2)\n",
    "openmeteo = openmeteo_requests.Client(session = retry_session)\n",
    "\n",
    "# Make sure all required weather variables are listed here\n",
    "# The order of variables in hourly or daily is important to assign them correctly below\n",
    "url = \"https://archive-api.open-meteo.com/v1/archive\"\n",
    "params = {\n",
    "\t\"latitude\": -22.9064,\n",
    "\t\"longitude\": -43.1822,\n",
    "\t\"start_date\": \"2024-01-01\",\n",
    "\t\"end_date\": \"2024-08-01\",\n",
    "\t\"daily\": [\"weather_code\", \"temperature_2m_mean\"],\n",
    "\t\"timezone\": \"America/Sao_Paulo\"\n",
    "}\n",
    "\n",
    "responses = openmeteo.weather_api(url, params=params)\n",
    "\n",
    "response = responses[0]\n",
    "daily = response.Daily()\n",
    "daily_weather_code = daily.Variables(0).ValuesAsNumpy()\n",
    "daily_temperature_2m_mean = daily.Variables(1).ValuesAsNumpy()\n",
    "\n",
    "daily_data = {\"Date\": pd.date_range(\n",
    "\tstart = pd.to_datetime(daily.Time(), unit = \"s\", utc = False),\n",
    "\tend = pd.to_datetime(daily.TimeEnd(), unit = \"s\", utc = False),\n",
    "\tfreq = pd.Timedelta(seconds = daily.Interval()),\n",
    "\tinclusive = \"left\"\n",
    ")}\n",
    "daily_dataframe = pd.DataFrame(data = daily_data)\n",
    "\n",
    "daily_data[\"weather_code\"] = daily_weather_code\n",
    "daily_data['Ano'] = daily_dataframe['Date'].dt.year\n",
    "daily_data['Mês'] = daily_dataframe['Date'].dt.month\n",
    "daily_data[\"Temperatura Média\"] = daily_temperature_2m_mean\n",
    "\n",
    "daily_dataframe = pd.DataFrame(data = daily_data)\n",
    "\n",
    "\n",
    "daily_dataframe.head(50)"
   ]
  },
  {
   "cell_type": "markdown",
   "id": "2ea24830",
   "metadata": {},
   "source": [
    "Continuando a resolução, aqui eu criei um DataFrame para as médias mensais"
   ]
  },
  {
   "cell_type": "markdown",
   "id": "81e9c109",
   "metadata": {},
   "source": [
    "Peguei as informações do outro DataFrame e agrupei os dados usando o mês como métrica, calculando a média de temperatura para cada mês"
   ]
  },
  {
   "cell_type": "code",
   "execution_count": null,
   "id": "03b4da9f",
   "metadata": {},
   "outputs": [],
   "source": [
    "df_medias_mensais = pd.DataFrame(columns=['Mês', 'Ano', 'Temperatura Média'])\n",
    "\n",
    "df_medias_mensais = daily_dataframe.groupby(['Ano', 'Mês'])['Temperatura Média'].mean().reset_index()\n",
    "\n",
    "df_medias_mensais.head(10)"
   ]
  },
  {
   "cell_type": "markdown",
   "id": "9deeb124",
   "metadata": {},
   "source": [
    "Resposta: <br>\n",
    "\n",
    "Janeiro: 26.69 ºC<br>\n",
    "Fevereiro: 27.21 ºC<br>\n",
    "Março: 26.41 ºC<br>\n",
    "Abril: 25.16 ºC<br>\n",
    "Maio: 24.99 ºC<br>\n",
    "Junho: 22.64 ºC<br>\n",
    "Julho: 21.10 ºC<br>\n",
    "Agosto: 21,22 ºC<br>"
   ]
  },
  {
   "cell_type": "markdown",
   "id": "f69fe11a",
   "metadata": {},
   "source": [
    "## Questão 5:\n",
    "Qual foi o tempo predominante em cada mês nesse período?"
   ]
  },
  {
   "cell_type": "markdown",
   "id": "d7a0b707",
   "metadata": {},
   "source": [
    "Aqui eu fiz uma função utilizando o método mode() para retornar o weather_code mais recorrente<br>\n",
    "e agrupei usando Ano e Mês como filtro, aplicando a função em função do weather_code<br>\n",
    "e fiz o merge do dataframe medias mensais e o novo dataframe criado"
   ]
  },
  {
   "cell_type": "code",
   "execution_count": null,
   "id": "86aff552",
   "metadata": {},
   "outputs": [],
   "source": [
    "def weather_code_recorrente(valores):\n",
    "    frequencia = valores.mode()\n",
    "    return frequencia.iloc[0] if not frequencia.empty else None\n",
    "\n",
    "weather_code_comum = daily_dataframe.groupby(['Ano', 'Mês'])['weather_code'].apply(weather_code_recorrente).reset_index()\n",
    "weather_code_comum.rename(columns={'weather_code': 'Weather_Code_Mais_Recorrente'}, inplace=True)\n",
    "\n",
    "\n",
    "df_resultado = pd.merge(df_medias_mensais, weather_code_comum, on=['Ano', 'Mês'])\n",
    "\n",
    "df_resultado.head(10)"
   ]
  },
  {
   "cell_type": "markdown",
   "id": "c8bc835f",
   "metadata": {},
   "source": [
    "Aqui eu \"carreguei\" o JSON ao nosso código e fiz uma função, para fazer o mapping<br>\n",
    "do weather_code do meu DataFrame com os valores que estão no JSON."
   ]
  },
  {
   "cell_type": "code",
   "execution_count": 53,
   "id": "0c135e0e",
   "metadata": {},
   "outputs": [
    {
     "data": {
      "text/html": [
       "<div>\n",
       "<style scoped>\n",
       "    .dataframe tbody tr th:only-of-type {\n",
       "        vertical-align: middle;\n",
       "    }\n",
       "\n",
       "    .dataframe tbody tr th {\n",
       "        vertical-align: top;\n",
       "    }\n",
       "\n",
       "    .dataframe thead th {\n",
       "        text-align: right;\n",
       "    }\n",
       "</style>\n",
       "<table border=\"1\" class=\"dataframe\">\n",
       "  <thead>\n",
       "    <tr style=\"text-align: right;\">\n",
       "      <th></th>\n",
       "      <th>Ano</th>\n",
       "      <th>Mês</th>\n",
       "      <th>Temperatura Média</th>\n",
       "      <th>Weather_Code_Mais_Recorrente</th>\n",
       "      <th>Descrição do Tempo</th>\n",
       "    </tr>\n",
       "  </thead>\n",
       "  <tbody>\n",
       "    <tr>\n",
       "      <th>0</th>\n",
       "      <td>2024</td>\n",
       "      <td>1</td>\n",
       "      <td>26.694233</td>\n",
       "      <td>63.0</td>\n",
       "      <td>Rain</td>\n",
       "    </tr>\n",
       "    <tr>\n",
       "      <th>1</th>\n",
       "      <td>2024</td>\n",
       "      <td>2</td>\n",
       "      <td>27.212988</td>\n",
       "      <td>51.0</td>\n",
       "      <td>Light Drizzle</td>\n",
       "    </tr>\n",
       "    <tr>\n",
       "      <th>2</th>\n",
       "      <td>2024</td>\n",
       "      <td>3</td>\n",
       "      <td>26.416479</td>\n",
       "      <td>51.0</td>\n",
       "      <td>Light Drizzle</td>\n",
       "    </tr>\n",
       "    <tr>\n",
       "      <th>3</th>\n",
       "      <td>2024</td>\n",
       "      <td>4</td>\n",
       "      <td>25.169930</td>\n",
       "      <td>3.0</td>\n",
       "      <td>Cloudy</td>\n",
       "    </tr>\n",
       "    <tr>\n",
       "      <th>4</th>\n",
       "      <td>2024</td>\n",
       "      <td>5</td>\n",
       "      <td>24.990740</td>\n",
       "      <td>51.0</td>\n",
       "      <td>Light Drizzle</td>\n",
       "    </tr>\n",
       "    <tr>\n",
       "      <th>5</th>\n",
       "      <td>2024</td>\n",
       "      <td>6</td>\n",
       "      <td>22.648958</td>\n",
       "      <td>1.0</td>\n",
       "      <td>Mainly Sunny</td>\n",
       "    </tr>\n",
       "    <tr>\n",
       "      <th>6</th>\n",
       "      <td>2024</td>\n",
       "      <td>7</td>\n",
       "      <td>21.105591</td>\n",
       "      <td>3.0</td>\n",
       "      <td>Cloudy</td>\n",
       "    </tr>\n",
       "    <tr>\n",
       "      <th>7</th>\n",
       "      <td>2024</td>\n",
       "      <td>8</td>\n",
       "      <td>21.225414</td>\n",
       "      <td>2.0</td>\n",
       "      <td>Partly Cloudy</td>\n",
       "    </tr>\n",
       "  </tbody>\n",
       "</table>\n",
       "</div>"
      ],
      "text/plain": [
       "    Ano  Mês  Temperatura Média  Weather_Code_Mais_Recorrente  \\\n",
       "0  2024    1          26.694233                          63.0   \n",
       "1  2024    2          27.212988                          51.0   \n",
       "2  2024    3          26.416479                          51.0   \n",
       "3  2024    4          25.169930                           3.0   \n",
       "4  2024    5          24.990740                          51.0   \n",
       "5  2024    6          22.648958                           1.0   \n",
       "6  2024    7          21.105591                           3.0   \n",
       "7  2024    8          21.225414                           2.0   \n",
       "\n",
       "  Descrição do Tempo  \n",
       "0               Rain  \n",
       "1      Light Drizzle  \n",
       "2      Light Drizzle  \n",
       "3             Cloudy  \n",
       "4      Light Drizzle  \n",
       "5       Mainly Sunny  \n",
       "6             Cloudy  \n",
       "7      Partly Cloudy  "
      ]
     },
     "execution_count": 53,
     "metadata": {},
     "output_type": "execute_result"
    }
   ],
   "source": [
    "with open('descriptions.json', 'r') as file:\n",
    "    weather_code_dict = json.load(file)\n",
    "\n",
    "def pegar_Descrição_JSON(code, time_of_day='day'):\n",
    "    if pd.isna(code):  # Verifica se o código é NaN\n",
    "        return 'Descrição não disponível'\n",
    "    code_str = str(int(code))\n",
    "    if code_str in weather_code_dict:\n",
    "        return weather_code_dict[code_str][time_of_day]['description']\n",
    "    else:\n",
    "        return 'Descrição não disponível'\n",
    "\n",
    "\n",
    "df_resultado['Descrição do Tempo'] = df_resultado['Weather_Code_Mais_Recorrente'].apply(lambda x: pegar_Descrição_JSON(x, 'day'))\n",
    "\n",
    "df_resultado.head(10)"
   ]
  },
  {
   "cell_type": "markdown",
   "id": "b6398233",
   "metadata": {},
   "source": [
    "Resposta: Foi tomado como base para todos os dias, a parte da manhã<br>\n",
    "<br>\n",
    "Janeiro - Rain<br>\n",
    "Fevereiro - Light Drizzle<br>\n",
    "Março - Light Drizzle<br>\n",
    "Abril - Cloudy<br>\n",
    "Maio - Light Drizzle<br>\n",
    "Junho - Mainly Sunny<br>\n",
    "Julho - Cloudy<br>\n",
    "Agosto - Partly Cloudy<br>"
   ]
  },
  {
   "cell_type": "markdown",
   "id": "bc0413ef",
   "metadata": {},
   "source": [
    "## Questão 6:\n",
    "Qual foi o tempo e a temperatura média em cada feriado de 01/01/2024 a 01/08/2024?"
   ]
  },
  {
   "cell_type": "markdown",
   "id": "8ff7ebdf",
   "metadata": {},
   "source": [
    "Aqui eu criei um DataFrame filtrado dos feriados a partir da data escolhida."
   ]
  },
  {
   "cell_type": "code",
   "execution_count": 54,
   "id": "0689072f",
   "metadata": {},
   "outputs": [
    {
     "data": {
      "text/html": [
       "<div>\n",
       "<style scoped>\n",
       "    .dataframe tbody tr th:only-of-type {\n",
       "        vertical-align: middle;\n",
       "    }\n",
       "\n",
       "    .dataframe tbody tr th {\n",
       "        vertical-align: top;\n",
       "    }\n",
       "\n",
       "    .dataframe thead th {\n",
       "        text-align: right;\n",
       "    }\n",
       "</style>\n",
       "<table border=\"1\" class=\"dataframe\">\n",
       "  <thead>\n",
       "    <tr style=\"text-align: right;\">\n",
       "      <th></th>\n",
       "      <th>Holiday Name</th>\n",
       "      <th>Date</th>\n",
       "      <th>Month</th>\n",
       "      <th>Day</th>\n",
       "      <th>Weekday</th>\n",
       "    </tr>\n",
       "  </thead>\n",
       "  <tbody>\n",
       "    <tr>\n",
       "      <th>0</th>\n",
       "      <td>New Year's Day</td>\n",
       "      <td>2024-01-01 03:00:00</td>\n",
       "      <td>January</td>\n",
       "      <td>0</td>\n",
       "      <td>Monday</td>\n",
       "    </tr>\n",
       "    <tr>\n",
       "      <th>1</th>\n",
       "      <td>Carnival</td>\n",
       "      <td>2024-02-12 03:00:00</td>\n",
       "      <td>February</td>\n",
       "      <td>0</td>\n",
       "      <td>Monday</td>\n",
       "    </tr>\n",
       "    <tr>\n",
       "      <th>2</th>\n",
       "      <td>Carnival</td>\n",
       "      <td>2024-02-13 03:00:00</td>\n",
       "      <td>February</td>\n",
       "      <td>1</td>\n",
       "      <td>Tuesday</td>\n",
       "    </tr>\n",
       "    <tr>\n",
       "      <th>3</th>\n",
       "      <td>Good Friday</td>\n",
       "      <td>2024-03-29 03:00:00</td>\n",
       "      <td>March</td>\n",
       "      <td>4</td>\n",
       "      <td>Friday</td>\n",
       "    </tr>\n",
       "    <tr>\n",
       "      <th>4</th>\n",
       "      <td>Easter Sunday</td>\n",
       "      <td>2024-03-31 03:00:00</td>\n",
       "      <td>March</td>\n",
       "      <td>6</td>\n",
       "      <td>Sunday</td>\n",
       "    </tr>\n",
       "    <tr>\n",
       "      <th>5</th>\n",
       "      <td>Tiradentes</td>\n",
       "      <td>2024-04-21 03:00:00</td>\n",
       "      <td>April</td>\n",
       "      <td>6</td>\n",
       "      <td>Sunday</td>\n",
       "    </tr>\n",
       "    <tr>\n",
       "      <th>6</th>\n",
       "      <td>Labour Day</td>\n",
       "      <td>2024-05-01 03:00:00</td>\n",
       "      <td>May</td>\n",
       "      <td>2</td>\n",
       "      <td>Wednesday</td>\n",
       "    </tr>\n",
       "    <tr>\n",
       "      <th>7</th>\n",
       "      <td>Corpus Christi</td>\n",
       "      <td>2024-05-30 03:00:00</td>\n",
       "      <td>May</td>\n",
       "      <td>3</td>\n",
       "      <td>Thursday</td>\n",
       "    </tr>\n",
       "    <tr>\n",
       "      <th>8</th>\n",
       "      <td>Constitutionalist Revolution of 1932</td>\n",
       "      <td>2024-07-09 03:00:00</td>\n",
       "      <td>July</td>\n",
       "      <td>1</td>\n",
       "      <td>Tuesday</td>\n",
       "    </tr>\n",
       "  </tbody>\n",
       "</table>\n",
       "</div>"
      ],
      "text/plain": [
       "                           Holiday Name                Date     Month  Day  \\\n",
       "0                        New Year's Day 2024-01-01 03:00:00   January    0   \n",
       "1                              Carnival 2024-02-12 03:00:00  February    0   \n",
       "2                              Carnival 2024-02-13 03:00:00  February    1   \n",
       "3                           Good Friday 2024-03-29 03:00:00     March    4   \n",
       "4                         Easter Sunday 2024-03-31 03:00:00     March    6   \n",
       "5                            Tiradentes 2024-04-21 03:00:00     April    6   \n",
       "6                            Labour Day 2024-05-01 03:00:00       May    2   \n",
       "7                        Corpus Christi 2024-05-30 03:00:00       May    3   \n",
       "8  Constitutionalist Revolution of 1932 2024-07-09 03:00:00      July    1   \n",
       "\n",
       "     Weekday  \n",
       "0     Monday  \n",
       "1     Monday  \n",
       "2    Tuesday  \n",
       "3     Friday  \n",
       "4     Sunday  \n",
       "5     Sunday  \n",
       "6  Wednesday  \n",
       "7   Thursday  \n",
       "8    Tuesday  "
      ]
     },
     "execution_count": 54,
     "metadata": {},
     "output_type": "execute_result"
    }
   ],
   "source": [
    "data_inicio = '2024-01-01'\n",
    "data_fim = '2024-08-01'\n",
    "\n",
    "df_feriados_filtro = df_feriados[(df_feriados['Date'] >= data_inicio) & (df_feriados['Date'] <= data_fim)]\n",
    "df_feriados_filtro.head(10)\n"
   ]
  },
  {
   "cell_type": "markdown",
   "id": "3458f4ae",
   "metadata": {},
   "source": [
    "Aqui eu fiz o merge do DataFrame filtrado com as informações que eu queria, que são:<br>\n",
    "Temperatura Média e weather_code, fiz o merge através das Datas. Precisei colocar a data<br>\n",
    "num formato especifico, porque não estava conseguindo fazer as referências, e eu não podia<br>\n",
    "tirar o timezone da Data das temperaturas, porque alterava o resultado das temperaturas."
   ]
  },
  {
   "cell_type": "code",
   "execution_count": 55,
   "id": "6aee3812",
   "metadata": {},
   "outputs": [],
   "source": [
    "df_resultado_feriados = pd.merge(df_feriados_filtro, daily_dataframe[['Date', 'Temperatura Média', 'weather_code']], on='Date', how='left')"
   ]
  },
  {
   "cell_type": "markdown",
   "id": "8ebd7702",
   "metadata": {},
   "source": [
    "Adicionei as Descrições do tempo"
   ]
  },
  {
   "cell_type": "code",
   "execution_count": 56,
   "id": "109ebe9b",
   "metadata": {},
   "outputs": [],
   "source": [
    "df_resultado_feriados['Descrição do Tempo'] = df_resultado_feriados['weather_code'].apply(lambda x: pegar_Descrição_JSON(x, 'day'))"
   ]
  },
  {
   "cell_type": "code",
   "execution_count": 57,
   "id": "2fb68055",
   "metadata": {},
   "outputs": [
    {
     "data": {
      "text/html": [
       "<div>\n",
       "<style scoped>\n",
       "    .dataframe tbody tr th:only-of-type {\n",
       "        vertical-align: middle;\n",
       "    }\n",
       "\n",
       "    .dataframe tbody tr th {\n",
       "        vertical-align: top;\n",
       "    }\n",
       "\n",
       "    .dataframe thead th {\n",
       "        text-align: right;\n",
       "    }\n",
       "</style>\n",
       "<table border=\"1\" class=\"dataframe\">\n",
       "  <thead>\n",
       "    <tr style=\"text-align: right;\">\n",
       "      <th></th>\n",
       "      <th>Holiday Name</th>\n",
       "      <th>Date</th>\n",
       "      <th>Month</th>\n",
       "      <th>Day</th>\n",
       "      <th>Weekday</th>\n",
       "      <th>Temperatura Média</th>\n",
       "      <th>weather_code</th>\n",
       "      <th>Descrição do Tempo</th>\n",
       "    </tr>\n",
       "  </thead>\n",
       "  <tbody>\n",
       "    <tr>\n",
       "      <th>0</th>\n",
       "      <td>New Year's Day</td>\n",
       "      <td>2024-01-01 03:00:00</td>\n",
       "      <td>January</td>\n",
       "      <td>0</td>\n",
       "      <td>Monday</td>\n",
       "      <td>24.854582</td>\n",
       "      <td>51.0</td>\n",
       "      <td>Light Drizzle</td>\n",
       "    </tr>\n",
       "    <tr>\n",
       "      <th>1</th>\n",
       "      <td>Carnival</td>\n",
       "      <td>2024-02-12 03:00:00</td>\n",
       "      <td>February</td>\n",
       "      <td>0</td>\n",
       "      <td>Monday</td>\n",
       "      <td>30.156668</td>\n",
       "      <td>1.0</td>\n",
       "      <td>Mainly Sunny</td>\n",
       "    </tr>\n",
       "    <tr>\n",
       "      <th>2</th>\n",
       "      <td>Carnival</td>\n",
       "      <td>2024-02-13 03:00:00</td>\n",
       "      <td>February</td>\n",
       "      <td>1</td>\n",
       "      <td>Tuesday</td>\n",
       "      <td>30.531670</td>\n",
       "      <td>51.0</td>\n",
       "      <td>Light Drizzle</td>\n",
       "    </tr>\n",
       "    <tr>\n",
       "      <th>3</th>\n",
       "      <td>Good Friday</td>\n",
       "      <td>2024-03-29 03:00:00</td>\n",
       "      <td>March</td>\n",
       "      <td>4</td>\n",
       "      <td>Friday</td>\n",
       "      <td>25.044168</td>\n",
       "      <td>61.0</td>\n",
       "      <td>Light Rain</td>\n",
       "    </tr>\n",
       "    <tr>\n",
       "      <th>4</th>\n",
       "      <td>Easter Sunday</td>\n",
       "      <td>2024-03-31 03:00:00</td>\n",
       "      <td>March</td>\n",
       "      <td>6</td>\n",
       "      <td>Sunday</td>\n",
       "      <td>24.531664</td>\n",
       "      <td>53.0</td>\n",
       "      <td>Drizzle</td>\n",
       "    </tr>\n",
       "    <tr>\n",
       "      <th>5</th>\n",
       "      <td>Tiradentes</td>\n",
       "      <td>2024-04-21 03:00:00</td>\n",
       "      <td>April</td>\n",
       "      <td>6</td>\n",
       "      <td>Sunday</td>\n",
       "      <td>23.087919</td>\n",
       "      <td>2.0</td>\n",
       "      <td>Partly Cloudy</td>\n",
       "    </tr>\n",
       "    <tr>\n",
       "      <th>6</th>\n",
       "      <td>Labour Day</td>\n",
       "      <td>2024-05-01 03:00:00</td>\n",
       "      <td>May</td>\n",
       "      <td>2</td>\n",
       "      <td>Wednesday</td>\n",
       "      <td>28.108751</td>\n",
       "      <td>0.0</td>\n",
       "      <td>Sunny</td>\n",
       "    </tr>\n",
       "    <tr>\n",
       "      <th>7</th>\n",
       "      <td>Corpus Christi</td>\n",
       "      <td>2024-05-30 03:00:00</td>\n",
       "      <td>May</td>\n",
       "      <td>3</td>\n",
       "      <td>Thursday</td>\n",
       "      <td>20.779579</td>\n",
       "      <td>51.0</td>\n",
       "      <td>Light Drizzle</td>\n",
       "    </tr>\n",
       "    <tr>\n",
       "      <th>8</th>\n",
       "      <td>Constitutionalist Revolution of 1932</td>\n",
       "      <td>2024-07-09 03:00:00</td>\n",
       "      <td>July</td>\n",
       "      <td>1</td>\n",
       "      <td>Tuesday</td>\n",
       "      <td>21.487915</td>\n",
       "      <td>53.0</td>\n",
       "      <td>Drizzle</td>\n",
       "    </tr>\n",
       "  </tbody>\n",
       "</table>\n",
       "</div>"
      ],
      "text/plain": [
       "                           Holiday Name                Date     Month  Day  \\\n",
       "0                        New Year's Day 2024-01-01 03:00:00   January    0   \n",
       "1                              Carnival 2024-02-12 03:00:00  February    0   \n",
       "2                              Carnival 2024-02-13 03:00:00  February    1   \n",
       "3                           Good Friday 2024-03-29 03:00:00     March    4   \n",
       "4                         Easter Sunday 2024-03-31 03:00:00     March    6   \n",
       "5                            Tiradentes 2024-04-21 03:00:00     April    6   \n",
       "6                            Labour Day 2024-05-01 03:00:00       May    2   \n",
       "7                        Corpus Christi 2024-05-30 03:00:00       May    3   \n",
       "8  Constitutionalist Revolution of 1932 2024-07-09 03:00:00      July    1   \n",
       "\n",
       "     Weekday  Temperatura Média  weather_code Descrição do Tempo  \n",
       "0     Monday          24.854582          51.0      Light Drizzle  \n",
       "1     Monday          30.156668           1.0       Mainly Sunny  \n",
       "2    Tuesday          30.531670          51.0      Light Drizzle  \n",
       "3     Friday          25.044168          61.0         Light Rain  \n",
       "4     Sunday          24.531664          53.0            Drizzle  \n",
       "5     Sunday          23.087919           2.0      Partly Cloudy  \n",
       "6  Wednesday          28.108751           0.0              Sunny  \n",
       "7   Thursday          20.779579          51.0      Light Drizzle  \n",
       "8    Tuesday          21.487915          53.0            Drizzle  "
      ]
     },
     "execution_count": 57,
     "metadata": {},
     "output_type": "execute_result"
    }
   ],
   "source": [
    "df_resultado_feriados.tail(10)"
   ]
  },
  {
   "cell_type": "markdown",
   "id": "040a81d3",
   "metadata": {},
   "source": [
    "Resposta: <br>\n",
    "Ano Novo : 24.84 ºC e Light Drizzle<br>\n",
    "Carnaval (2024-02-12) : 30.15 ºC e Mainly Sunny<br>\n",
    "Carnaval (2024-02-13) : 30.53 ºC e Light Drizzle<br>\n",
    "Sexta-feira Santa: 25.04 ºC e Light Rain<br>\n",
    "Páscoa: 24.53 ºC e Drizzle<br>\n",
    "Tiradentes: 23.08 ºC e Partly Cloudy<br>\n",
    "Dia do Trabalho: 28.10 ºC e Sunny<br>\n",
    "Corpus Christi: 20.77 ºC e Light Drizzle<br>\n",
    "Revolução Constitucionalista de 1932: 21.48 ºC e Drizzle<br>"
   ]
  },
  {
   "cell_type": "code",
   "execution_count": null,
   "id": "b29a98e2",
   "metadata": {},
   "outputs": [],
   "source": []
  },
  {
   "cell_type": "code",
   "execution_count": null,
   "id": "305e87e5",
   "metadata": {},
   "outputs": [],
   "source": []
  }
 ],
 "metadata": {
  "kernelspec": {
   "display_name": "Python 3",
   "language": "python",
   "name": "python3"
  },
  "language_info": {
   "codemirror_mode": {
    "name": "ipython",
    "version": 3
   },
   "file_extension": ".py",
   "mimetype": "text/x-python",
   "name": "python",
   "nbconvert_exporter": "python",
   "pygments_lexer": "ipython3",
   "version": "3.12.2"
  }
 },
 "nbformat": 4,
 "nbformat_minor": 5
}
